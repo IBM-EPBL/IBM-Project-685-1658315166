{
  "nbformat": 4,
  "nbformat_minor": 0,
  "metadata": {
    "colab": {
      "provenance": [],
      "collapsed_sections": [
        "FmHJApG6M6d1",
        "Xafly5dsOxUN"
      ]
    },
    "kernelspec": {
      "name": "python3",
      "display_name": "Python 3"
    },
    "language_info": {
      "name": "python"
    },
    "accelerator": "GPU"
  },
  "cells": [
    {
      "cell_type": "markdown",
      "source": [
        "#Unzip the data"
      ],
      "metadata": {
        "id": "FmHJApG6M6d1"
      }
    },
    {
      "cell_type": "code",
      "execution_count": 3,
      "metadata": {
        "colab": {
          "base_uri": "https://localhost:8080/"
        },
        "id": "u_JVKwDyJOmy",
        "outputId": "c60a4caf-3816-4fb1-f256-cb2f39d75708"
      },
      "outputs": [
        {
          "output_type": "stream",
          "name": "stdout",
          "text": [
            "Archive:  /content/drive/MyDrive/IBM_Dataset/dataset.zip\n",
            "  inflating: dataset/readme.txt      \n",
            "   creating: dataset/test_set/\n",
            "   creating: dataset/test_set/Cyclone/\n",
            "  inflating: dataset/test_set/Cyclone/867.jpg  \n",
            "  inflating: dataset/test_set/Cyclone/868.jpg  \n",
            "  inflating: dataset/test_set/Cyclone/869.jpg  \n",
            "  inflating: dataset/test_set/Cyclone/870.jpg  \n",
            "  inflating: dataset/test_set/Cyclone/871.jpg  \n",
            "  inflating: dataset/test_set/Cyclone/872.jpg  \n",
            "  inflating: dataset/test_set/Cyclone/873.jpg  \n",
            "  inflating: dataset/test_set/Cyclone/874.jpg  \n",
            "  inflating: dataset/test_set/Cyclone/875.jpg  \n",
            "  inflating: dataset/test_set/Cyclone/876.jpg  \n",
            "  inflating: dataset/test_set/Cyclone/877.jpg  \n",
            "  inflating: dataset/test_set/Cyclone/878.jpg  \n",
            "  inflating: dataset/test_set/Cyclone/879.jpg  \n",
            "  inflating: dataset/test_set/Cyclone/880.jpg  \n",
            "  inflating: dataset/test_set/Cyclone/881.jpg  \n",
            "  inflating: dataset/test_set/Cyclone/882.jpg  \n",
            "  inflating: dataset/test_set/Cyclone/883.jpg  \n",
            "  inflating: dataset/test_set/Cyclone/884.jpg  \n",
            "  inflating: dataset/test_set/Cyclone/885.jpg  \n",
            "  inflating: dataset/test_set/Cyclone/886.jpg  \n",
            "  inflating: dataset/test_set/Cyclone/887.jpg  \n",
            "  inflating: dataset/test_set/Cyclone/888.jpg  \n",
            "  inflating: dataset/test_set/Cyclone/889.jpg  \n",
            "  inflating: dataset/test_set/Cyclone/890.jpg  \n",
            "  inflating: dataset/test_set/Cyclone/891.jpg  \n",
            "  inflating: dataset/test_set/Cyclone/892.jpg  \n",
            "  inflating: dataset/test_set/Cyclone/893.jpg  \n",
            "  inflating: dataset/test_set/Cyclone/894.jpg  \n",
            "  inflating: dataset/test_set/Cyclone/895.jpg  \n",
            "  inflating: dataset/test_set/Cyclone/896.jpg  \n",
            "  inflating: dataset/test_set/Cyclone/897.jpg  \n",
            "  inflating: dataset/test_set/Cyclone/898.jpg  \n",
            "  inflating: dataset/test_set/Cyclone/899.jpg  \n",
            "  inflating: dataset/test_set/Cyclone/900.jpg  \n",
            "  inflating: dataset/test_set/Cyclone/901.jpg  \n",
            "  inflating: dataset/test_set/Cyclone/902.jpg  \n",
            "  inflating: dataset/test_set/Cyclone/903.jpg  \n",
            "  inflating: dataset/test_set/Cyclone/904.jpg  \n",
            "  inflating: dataset/test_set/Cyclone/905.jpg  \n",
            "  inflating: dataset/test_set/Cyclone/906.jpg  \n",
            "  inflating: dataset/test_set/Cyclone/907.jpg  \n",
            "  inflating: dataset/test_set/Cyclone/908.jpg  \n",
            "  inflating: dataset/test_set/Cyclone/909.jpg  \n",
            "  inflating: dataset/test_set/Cyclone/910.jpg  \n",
            "  inflating: dataset/test_set/Cyclone/911.jpg  \n",
            "  inflating: dataset/test_set/Cyclone/912.jpg  \n",
            "  inflating: dataset/test_set/Cyclone/913.jpg  \n",
            "  inflating: dataset/test_set/Cyclone/914.jpg  \n",
            "  inflating: dataset/test_set/Cyclone/915.jpg  \n",
            "  inflating: dataset/test_set/Cyclone/916.jpg  \n",
            "  inflating: dataset/test_set/Cyclone/917.jpg  \n",
            "  inflating: dataset/test_set/Cyclone/918.jpg  \n",
            "  inflating: dataset/test_set/Cyclone/919.jpg  \n",
            "  inflating: dataset/test_set/Cyclone/920.jpg  \n",
            "  inflating: dataset/test_set/Cyclone/921.jpg  \n",
            "  inflating: dataset/test_set/Cyclone/922.jpg  \n",
            "  inflating: dataset/test_set/Cyclone/923.jpg  \n",
            "  inflating: dataset/test_set/Cyclone/924.jpg  \n",
            "  inflating: dataset/test_set/Cyclone/925.jpg  \n",
            "  inflating: dataset/test_set/Cyclone/926.jpg  \n",
            "  inflating: dataset/test_set/Cyclone/927.jpg  \n",
            "  inflating: dataset/test_set/Cyclone/928.jpg  \n",
            "  inflating: dataset/test_set/Cyclone/929.jpg  \n",
            "  inflating: dataset/test_set/Cyclone/930.jpg  \n",
            "   creating: dataset/test_set/Earthquake/\n",
            "  inflating: dataset/test_set/Earthquake/1321.jpg  \n",
            "  inflating: dataset/test_set/Earthquake/1322.jpg  \n",
            "  inflating: dataset/test_set/Earthquake/1323.jpg  \n",
            "  inflating: dataset/test_set/Earthquake/1324.jpg  \n",
            "  inflating: dataset/test_set/Earthquake/1325.jpg  \n",
            "  inflating: dataset/test_set/Earthquake/1326.jpg  \n",
            "  inflating: dataset/test_set/Earthquake/1327.jpg  \n",
            "  inflating: dataset/test_set/Earthquake/1328.jpg  \n",
            "  inflating: dataset/test_set/Earthquake/1329.jpg  \n",
            "  inflating: dataset/test_set/Earthquake/1330.jpg  \n",
            "  inflating: dataset/test_set/Earthquake/1331.jpg  \n",
            "  inflating: dataset/test_set/Earthquake/1332.jpg  \n",
            "  inflating: dataset/test_set/Earthquake/1333.jpg  \n",
            "  inflating: dataset/test_set/Earthquake/1334.jpg  \n",
            "  inflating: dataset/test_set/Earthquake/1335.jpg  \n",
            "  inflating: dataset/test_set/Earthquake/1336.jpg  \n",
            "  inflating: dataset/test_set/Earthquake/1337.jpg  \n",
            "  inflating: dataset/test_set/Earthquake/1338.jpg  \n",
            "  inflating: dataset/test_set/Earthquake/1339.jpg  \n",
            "  inflating: dataset/test_set/Earthquake/1340.jpg  \n",
            "  inflating: dataset/test_set/Earthquake/1341.jpg  \n",
            "  inflating: dataset/test_set/Earthquake/1342.jpg  \n",
            "  inflating: dataset/test_set/Earthquake/1343.jpg  \n",
            "  inflating: dataset/test_set/Earthquake/1344.jpg  \n",
            "  inflating: dataset/test_set/Earthquake/1345.jpg  \n",
            "  inflating: dataset/test_set/Earthquake/1346.jpg  \n",
            "  inflating: dataset/test_set/Earthquake/1347.jpg  \n",
            "  inflating: dataset/test_set/Earthquake/1348.jpg  \n",
            "  inflating: dataset/test_set/Earthquake/1349.jpg  \n",
            "   creating: dataset/test_set/Flood/\n",
            "  inflating: dataset/test_set/Flood/1000.jpg  \n",
            "  inflating: dataset/test_set/Flood/1001.jpg  \n",
            "  inflating: dataset/test_set/Flood/1002.jpg  \n",
            "  inflating: dataset/test_set/Flood/1003.jpg  \n",
            "  inflating: dataset/test_set/Flood/1004.jpg  \n",
            "  inflating: dataset/test_set/Flood/1005.jpg  \n",
            "  inflating: dataset/test_set/Flood/1006.jpg  \n",
            "  inflating: dataset/test_set/Flood/1007.jpg  \n",
            "  inflating: dataset/test_set/Flood/1008.jpg  \n",
            "  inflating: dataset/test_set/Flood/1009.jpg  \n",
            "  inflating: dataset/test_set/Flood/1010.jpg  \n",
            "  inflating: dataset/test_set/Flood/1011.jpg  \n",
            "  inflating: dataset/test_set/Flood/1012.jpg  \n",
            "  inflating: dataset/test_set/Flood/1013.jpg  \n",
            "  inflating: dataset/test_set/Flood/1014.jpg  \n",
            "  inflating: dataset/test_set/Flood/1015.jpg  \n",
            "  inflating: dataset/test_set/Flood/1016.jpg  \n",
            "  inflating: dataset/test_set/Flood/1017.jpg  \n",
            "  inflating: dataset/test_set/Flood/1018.jpg  \n",
            "  inflating: dataset/test_set/Flood/1019.jpg  \n",
            "  inflating: dataset/test_set/Flood/1020.jpg  \n",
            "  inflating: dataset/test_set/Flood/1021.jpg  \n",
            "  inflating: dataset/test_set/Flood/1022.jpg  \n",
            "  inflating: dataset/test_set/Flood/1023.jpg  \n",
            "  inflating: dataset/test_set/Flood/1024.jpg  \n",
            "  inflating: dataset/test_set/Flood/1025.jpg  \n",
            "  inflating: dataset/test_set/Flood/1026.jpg  \n",
            "  inflating: dataset/test_set/Flood/1027.jpg  \n",
            "  inflating: dataset/test_set/Flood/1028.jpg  \n",
            "  inflating: dataset/test_set/Flood/1029.jpg  \n",
            "  inflating: dataset/test_set/Flood/1030.jpg  \n",
            "  inflating: dataset/test_set/Flood/1031.jpg  \n",
            "  inflating: dataset/test_set/Flood/1032.jpg  \n",
            "  inflating: dataset/test_set/Flood/1033.jpg  \n",
            "  inflating: dataset/test_set/Flood/1034.jpg  \n",
            "  inflating: dataset/test_set/Flood/1035.jpg  \n",
            "  inflating: dataset/test_set/Flood/1036.jpg  \n",
            "  inflating: dataset/test_set/Flood/1037.jpg  \n",
            "  inflating: dataset/test_set/Flood/1038.jpg  \n",
            "  inflating: dataset/test_set/Flood/1039.jpg  \n",
            "  inflating: dataset/test_set/Flood/1040.jpg  \n",
            "  inflating: dataset/test_set/Flood/1041.jpg  \n",
            "  inflating: dataset/test_set/Flood/1042.jpg  \n",
            "  inflating: dataset/test_set/Flood/1043.jpg  \n",
            "  inflating: dataset/test_set/Flood/1044.jpg  \n",
            "  inflating: dataset/test_set/Flood/1045.jpg  \n",
            "  inflating: dataset/test_set/Flood/1046.jpg  \n",
            "  inflating: dataset/test_set/Flood/1047.jpg  \n",
            "  inflating: dataset/test_set/Flood/1048.jpg  \n",
            "  inflating: dataset/test_set/Flood/1049.jpg  \n",
            "  inflating: dataset/test_set/Flood/1050.jpg  \n",
            "  inflating: dataset/test_set/Flood/1051.jpg  \n",
            "  inflating: dataset/test_set/Flood/1062.jpg  \n",
            "  inflating: dataset/test_set/Flood/992.jpg  \n",
            "  inflating: dataset/test_set/Flood/993.jpg  \n",
            "  inflating: dataset/test_set/Flood/994.jpg  \n",
            "  inflating: dataset/test_set/Flood/995.jpg  \n",
            "  inflating: dataset/test_set/Flood/996.jpg  \n",
            "  inflating: dataset/test_set/Flood/997.jpg  \n",
            "  inflating: dataset/test_set/Flood/998.jpg  \n",
            "  inflating: dataset/test_set/Flood/999.jpg  \n",
            "   creating: dataset/test_set/Wildfire/\n",
            "  inflating: dataset/test_set/Wildfire/1035.jpg  \n",
            "  inflating: dataset/test_set/Wildfire/1036.jpg  \n",
            "  inflating: dataset/test_set/Wildfire/1037.jpg  \n",
            "  inflating: dataset/test_set/Wildfire/1038.jpg  \n",
            "  inflating: dataset/test_set/Wildfire/1039.jpg  \n",
            "  inflating: dataset/test_set/Wildfire/1040.jpg  \n",
            "  inflating: dataset/test_set/Wildfire/1041.jpg  \n",
            "  inflating: dataset/test_set/Wildfire/1042.jpg  \n",
            "  inflating: dataset/test_set/Wildfire/1043.jpg  \n",
            "  inflating: dataset/test_set/Wildfire/1044.jpg  \n",
            "  inflating: dataset/test_set/Wildfire/1045.jpg  \n",
            "  inflating: dataset/test_set/Wildfire/1046.jpg  \n",
            "  inflating: dataset/test_set/Wildfire/1047.jpg  \n",
            "  inflating: dataset/test_set/Wildfire/1048.jpg  \n",
            "  inflating: dataset/test_set/Wildfire/1049.jpg  \n",
            "  inflating: dataset/test_set/Wildfire/1050.jpg  \n",
            "  inflating: dataset/test_set/Wildfire/1051.jpg  \n",
            "  inflating: dataset/test_set/Wildfire/1052.jpg  \n",
            "  inflating: dataset/test_set/Wildfire/1053.jpg  \n",
            "  inflating: dataset/test_set/Wildfire/1054.jpg  \n",
            "  inflating: dataset/test_set/Wildfire/1055.jpg  \n",
            "  inflating: dataset/test_set/Wildfire/1056.jpg  \n",
            "  inflating: dataset/test_set/Wildfire/1057.jpg  \n",
            "  inflating: dataset/test_set/Wildfire/1058.jpg  \n",
            "  inflating: dataset/test_set/Wildfire/1059.jpg  \n",
            "  inflating: dataset/test_set/Wildfire/1060.jpg  \n",
            "  inflating: dataset/test_set/Wildfire/1061.jpg  \n",
            "  inflating: dataset/test_set/Wildfire/1062.jpg  \n",
            "  inflating: dataset/test_set/Wildfire/1063.jpg  \n",
            "  inflating: dataset/test_set/Wildfire/1064.jpg  \n",
            "  inflating: dataset/test_set/Wildfire/1065.jpg  \n",
            "  inflating: dataset/test_set/Wildfire/1066.jpg  \n",
            "  inflating: dataset/test_set/Wildfire/1067.jpg  \n",
            "  inflating: dataset/test_set/Wildfire/1068.jpg  \n",
            "  inflating: dataset/test_set/Wildfire/1069.jpg  \n",
            "  inflating: dataset/test_set/Wildfire/1070.jpg  \n",
            "  inflating: dataset/test_set/Wildfire/1071.jpg  \n",
            "  inflating: dataset/test_set/Wildfire/1072.jpg  \n",
            "  inflating: dataset/test_set/Wildfire/1073.jpg  \n",
            "  inflating: dataset/test_set/Wildfire/1074.jpg  \n",
            "  inflating: dataset/test_set/Wildfire/1075.jpg  \n",
            "  inflating: dataset/test_set/Wildfire/1076.jpg  \n",
            "  inflating: dataset/test_set/Wildfire/1077.jpg  \n",
            "  inflating: dataset/test_set/Wildfire/1078.jpg  \n",
            "   creating: dataset/train_set/\n",
            "   creating: dataset/train_set/Cyclone/\n",
            "  inflating: dataset/train_set/Cyclone/0.jpg  \n",
            "  inflating: dataset/train_set/Cyclone/1.jpg  \n",
            "  inflating: dataset/train_set/Cyclone/10.jpg  \n",
            "  inflating: dataset/train_set/Cyclone/100.jpg  \n",
            "  inflating: dataset/train_set/Cyclone/101.jpg  \n",
            "  inflating: dataset/train_set/Cyclone/102.jpg  \n",
            "  inflating: dataset/train_set/Cyclone/103.jpg  \n",
            "  inflating: dataset/train_set/Cyclone/104.jpg  \n",
            "  inflating: dataset/train_set/Cyclone/105.jpg  \n",
            "  inflating: dataset/train_set/Cyclone/106.jpg  \n",
            "  inflating: dataset/train_set/Cyclone/107.jpg  \n",
            "  inflating: dataset/train_set/Cyclone/108.jpg  \n",
            "  inflating: dataset/train_set/Cyclone/109.jpg  \n",
            "  inflating: dataset/train_set/Cyclone/11.jpg  \n",
            "  inflating: dataset/train_set/Cyclone/110.jpg  \n",
            "  inflating: dataset/train_set/Cyclone/111.jpg  \n",
            "  inflating: dataset/train_set/Cyclone/112.jpg  \n",
            "  inflating: dataset/train_set/Cyclone/113.jpg  \n",
            "  inflating: dataset/train_set/Cyclone/114.jpg  \n",
            "  inflating: dataset/train_set/Cyclone/115.jpg  \n",
            "  inflating: dataset/train_set/Cyclone/116.jpg  \n",
            "  inflating: dataset/train_set/Cyclone/117.jpg  \n",
            "  inflating: dataset/train_set/Cyclone/118.jpg  \n",
            "  inflating: dataset/train_set/Cyclone/119.jpg  \n",
            "  inflating: dataset/train_set/Cyclone/12.jpg  \n",
            "  inflating: dataset/train_set/Cyclone/120.jpg  \n",
            "  inflating: dataset/train_set/Cyclone/121.jpg  \n",
            "  inflating: dataset/train_set/Cyclone/122.jpg  \n",
            "  inflating: dataset/train_set/Cyclone/123.jpg  \n",
            "  inflating: dataset/train_set/Cyclone/124.jpg  \n",
            "  inflating: dataset/train_set/Cyclone/125.jpg  \n",
            "  inflating: dataset/train_set/Cyclone/126.jpg  \n",
            "  inflating: dataset/train_set/Cyclone/127.jpg  \n",
            "  inflating: dataset/train_set/Cyclone/128.jpg  \n",
            "  inflating: dataset/train_set/Cyclone/129.jpg  \n",
            "  inflating: dataset/train_set/Cyclone/13.jpg  \n",
            "  inflating: dataset/train_set/Cyclone/130.jpg  \n",
            "  inflating: dataset/train_set/Cyclone/131.jpg  \n",
            "  inflating: dataset/train_set/Cyclone/132.jpg  \n",
            "  inflating: dataset/train_set/Cyclone/133.jpg  \n",
            "  inflating: dataset/train_set/Cyclone/134.jpg  \n",
            "  inflating: dataset/train_set/Cyclone/135.jpg  \n",
            "  inflating: dataset/train_set/Cyclone/136.jpg  \n",
            "  inflating: dataset/train_set/Cyclone/137.jpg  \n",
            "  inflating: dataset/train_set/Cyclone/138.jpg  \n",
            "  inflating: dataset/train_set/Cyclone/139.jpg  \n",
            "  inflating: dataset/train_set/Cyclone/14.jpg  \n",
            "  inflating: dataset/train_set/Cyclone/140.jpg  \n",
            "  inflating: dataset/train_set/Cyclone/141.jpg  \n",
            "  inflating: dataset/train_set/Cyclone/142.jpg  \n",
            "  inflating: dataset/train_set/Cyclone/143.jpg  \n",
            "  inflating: dataset/train_set/Cyclone/144.jpg  \n",
            "  inflating: dataset/train_set/Cyclone/145.jpg  \n",
            "  inflating: dataset/train_set/Cyclone/146.jpg  \n",
            "  inflating: dataset/train_set/Cyclone/147.jpg  \n",
            "  inflating: dataset/train_set/Cyclone/148.jpg  \n",
            "  inflating: dataset/train_set/Cyclone/149.jpg  \n",
            "  inflating: dataset/train_set/Cyclone/15.jpg  \n",
            "  inflating: dataset/train_set/Cyclone/150.jpg  \n",
            "  inflating: dataset/train_set/Cyclone/151.jpg  \n",
            "  inflating: dataset/train_set/Cyclone/152.jpg  \n",
            "  inflating: dataset/train_set/Cyclone/153.jpg  \n",
            "  inflating: dataset/train_set/Cyclone/154.jpg  \n",
            "  inflating: dataset/train_set/Cyclone/155.jpg  \n",
            "  inflating: dataset/train_set/Cyclone/156.jpg  \n",
            "  inflating: dataset/train_set/Cyclone/157.jpg  \n",
            "  inflating: dataset/train_set/Cyclone/158.jpg  \n",
            "  inflating: dataset/train_set/Cyclone/159.jpg  \n",
            "  inflating: dataset/train_set/Cyclone/16.jpg  \n",
            "  inflating: dataset/train_set/Cyclone/160.jpg  \n",
            "  inflating: dataset/train_set/Cyclone/161.jpg  \n",
            "  inflating: dataset/train_set/Cyclone/162.jpg  \n",
            "  inflating: dataset/train_set/Cyclone/163.jpg  \n",
            "  inflating: dataset/train_set/Cyclone/164.jpg  \n",
            "  inflating: dataset/train_set/Cyclone/165.jpg  \n",
            "  inflating: dataset/train_set/Cyclone/166.jpg  \n",
            "  inflating: dataset/train_set/Cyclone/167.jpg  \n",
            "  inflating: dataset/train_set/Cyclone/168.jpg  \n",
            "  inflating: dataset/train_set/Cyclone/169.jpg  \n",
            "  inflating: dataset/train_set/Cyclone/17.jpg  \n",
            "  inflating: dataset/train_set/Cyclone/170.jpg  \n",
            "  inflating: dataset/train_set/Cyclone/18.jpg  \n",
            "  inflating: dataset/train_set/Cyclone/184.jpg  \n",
            "  inflating: dataset/train_set/Cyclone/185.jpg  \n",
            "  inflating: dataset/train_set/Cyclone/186.jpg  \n",
            "  inflating: dataset/train_set/Cyclone/187.jpg  \n",
            "  inflating: dataset/train_set/Cyclone/188.jpg  \n",
            "  inflating: dataset/train_set/Cyclone/189.jpg  \n",
            "  inflating: dataset/train_set/Cyclone/19.jpg  \n",
            "  inflating: dataset/train_set/Cyclone/190.jpg  \n",
            "  inflating: dataset/train_set/Cyclone/191.jpg  \n",
            "  inflating: dataset/train_set/Cyclone/192.jpg  \n",
            "  inflating: dataset/train_set/Cyclone/193.jpg  \n",
            "  inflating: dataset/train_set/Cyclone/194.jpg  \n",
            "  inflating: dataset/train_set/Cyclone/195.jpg  \n",
            "  inflating: dataset/train_set/Cyclone/196.jpg  \n",
            "  inflating: dataset/train_set/Cyclone/197.jpg  \n",
            "  inflating: dataset/train_set/Cyclone/198.jpg  \n",
            "  inflating: dataset/train_set/Cyclone/199.jpg  \n",
            "  inflating: dataset/train_set/Cyclone/2.jpg  \n",
            "  inflating: dataset/train_set/Cyclone/20.jpg  \n",
            "  inflating: dataset/train_set/Cyclone/200.jpg  \n",
            "  inflating: dataset/train_set/Cyclone/201.jpg  \n",
            "  inflating: dataset/train_set/Cyclone/202.jpg  \n",
            "  inflating: dataset/train_set/Cyclone/203.jpg  \n",
            "  inflating: dataset/train_set/Cyclone/204.jpg  \n",
            "  inflating: dataset/train_set/Cyclone/205.jpg  \n",
            "  inflating: dataset/train_set/Cyclone/206.jpg  \n",
            "  inflating: dataset/train_set/Cyclone/207.jpg  \n",
            "  inflating: dataset/train_set/Cyclone/208.jpg  \n",
            "  inflating: dataset/train_set/Cyclone/209.jpg  \n",
            "  inflating: dataset/train_set/Cyclone/21.jpg  \n",
            "  inflating: dataset/train_set/Cyclone/210.jpg  \n",
            "  inflating: dataset/train_set/Cyclone/211.jpg  \n",
            "  inflating: dataset/train_set/Cyclone/212.jpg  \n",
            "  inflating: dataset/train_set/Cyclone/213.jpg  \n",
            "  inflating: dataset/train_set/Cyclone/214.jpg  \n",
            "  inflating: dataset/train_set/Cyclone/215.jpg  \n",
            "  inflating: dataset/train_set/Cyclone/216.jpg  \n",
            "  inflating: dataset/train_set/Cyclone/217.jpg  \n",
            "  inflating: dataset/train_set/Cyclone/218.jpg  \n",
            "  inflating: dataset/train_set/Cyclone/219.jpg  \n",
            "  inflating: dataset/train_set/Cyclone/22.jpg  \n",
            "  inflating: dataset/train_set/Cyclone/220.jpg  \n",
            "  inflating: dataset/train_set/Cyclone/221.jpg  \n",
            "  inflating: dataset/train_set/Cyclone/222.jpg  \n",
            "  inflating: dataset/train_set/Cyclone/223.jpg  \n",
            "  inflating: dataset/train_set/Cyclone/224.jpg  \n",
            "  inflating: dataset/train_set/Cyclone/225.jpg  \n",
            "  inflating: dataset/train_set/Cyclone/226.jpg  \n",
            "  inflating: dataset/train_set/Cyclone/227.jpg  \n",
            "  inflating: dataset/train_set/Cyclone/228.jpg  \n",
            "  inflating: dataset/train_set/Cyclone/229.jpg  \n",
            "  inflating: dataset/train_set/Cyclone/23.jpg  \n",
            "  inflating: dataset/train_set/Cyclone/230.jpg  \n",
            "  inflating: dataset/train_set/Cyclone/231.jpg  \n",
            "  inflating: dataset/train_set/Cyclone/232.jpg  \n",
            "  inflating: dataset/train_set/Cyclone/24.jpg  \n",
            "  inflating: dataset/train_set/Cyclone/25.jpg  \n",
            "  inflating: dataset/train_set/Cyclone/26.jpg  \n",
            "  inflating: dataset/train_set/Cyclone/27.jpg  \n",
            "  inflating: dataset/train_set/Cyclone/28.jpg  \n",
            "  inflating: dataset/train_set/Cyclone/29.jpg  \n",
            "  inflating: dataset/train_set/Cyclone/3.jpg  \n",
            "  inflating: dataset/train_set/Cyclone/30.jpg  \n",
            "  inflating: dataset/train_set/Cyclone/31.jpg  \n",
            "  inflating: dataset/train_set/Cyclone/32.jpg  \n",
            "  inflating: dataset/train_set/Cyclone/33.jpg  \n",
            "  inflating: dataset/train_set/Cyclone/34.jpg  \n",
            "  inflating: dataset/train_set/Cyclone/35.jpg  \n",
            "  inflating: dataset/train_set/Cyclone/36.jpg  \n",
            "  inflating: dataset/train_set/Cyclone/37.jpg  \n",
            "  inflating: dataset/train_set/Cyclone/38.jpg  \n",
            "  inflating: dataset/train_set/Cyclone/39.jpg  \n",
            "  inflating: dataset/train_set/Cyclone/4.jpg  \n",
            "  inflating: dataset/train_set/Cyclone/40.jpg  \n",
            "  inflating: dataset/train_set/Cyclone/41.jpg  \n",
            "  inflating: dataset/train_set/Cyclone/42.jpg  \n",
            "  inflating: dataset/train_set/Cyclone/43.jpg  \n",
            "  inflating: dataset/train_set/Cyclone/44.jpg  \n",
            "  inflating: dataset/train_set/Cyclone/45.jpg  \n",
            "  inflating: dataset/train_set/Cyclone/46.jpg  \n",
            "  inflating: dataset/train_set/Cyclone/47.jpg  \n",
            "  inflating: dataset/train_set/Cyclone/48.jpg  \n",
            "  inflating: dataset/train_set/Cyclone/49.jpg  \n",
            "  inflating: dataset/train_set/Cyclone/5.jpg  \n",
            "  inflating: dataset/train_set/Cyclone/50.jpg  \n",
            "  inflating: dataset/train_set/Cyclone/51.jpg  \n",
            "  inflating: dataset/train_set/Cyclone/52.jpg  \n",
            "  inflating: dataset/train_set/Cyclone/53.jpg  \n",
            "  inflating: dataset/train_set/Cyclone/54.jpg  \n",
            "  inflating: dataset/train_set/Cyclone/55.jpg  \n",
            "  inflating: dataset/train_set/Cyclone/56.jpg  \n",
            "  inflating: dataset/train_set/Cyclone/57.jpg  \n",
            "  inflating: dataset/train_set/Cyclone/58.jpg  \n",
            "  inflating: dataset/train_set/Cyclone/59.jpg  \n",
            "  inflating: dataset/train_set/Cyclone/6.jpg  \n",
            "  inflating: dataset/train_set/Cyclone/60.jpg  \n",
            "  inflating: dataset/train_set/Cyclone/61.jpg  \n",
            "  inflating: dataset/train_set/Cyclone/62.jpg  \n",
            "  inflating: dataset/train_set/Cyclone/63.jpg  \n",
            "  inflating: dataset/train_set/Cyclone/64.jpg  \n",
            "  inflating: dataset/train_set/Cyclone/65.jpg  \n",
            "  inflating: dataset/train_set/Cyclone/66.jpg  \n",
            "  inflating: dataset/train_set/Cyclone/67.jpg  \n",
            "  inflating: dataset/train_set/Cyclone/68.jpg  \n",
            "  inflating: dataset/train_set/Cyclone/69.jpg  \n",
            "  inflating: dataset/train_set/Cyclone/7.jpg  \n",
            "  inflating: dataset/train_set/Cyclone/70.jpg  \n",
            "  inflating: dataset/train_set/Cyclone/71.jpg  \n",
            "  inflating: dataset/train_set/Cyclone/72.jpg  \n",
            "  inflating: dataset/train_set/Cyclone/73.jpg  \n",
            "  inflating: dataset/train_set/Cyclone/74.jpg  \n",
            "  inflating: dataset/train_set/Cyclone/75.jpg  \n",
            "  inflating: dataset/train_set/Cyclone/76.jpg  \n",
            "  inflating: dataset/train_set/Cyclone/77.jpg  \n",
            "  inflating: dataset/train_set/Cyclone/78.jpg  \n",
            "  inflating: dataset/train_set/Cyclone/79.jpg  \n",
            "  inflating: dataset/train_set/Cyclone/8.jpg  \n",
            "  inflating: dataset/train_set/Cyclone/80.jpg  \n",
            "  inflating: dataset/train_set/Cyclone/81.jpg  \n",
            "  inflating: dataset/train_set/Cyclone/82.jpg  \n",
            "  inflating: dataset/train_set/Cyclone/83.jpg  \n",
            "  inflating: dataset/train_set/Cyclone/84.jpg  \n",
            "  inflating: dataset/train_set/Cyclone/85.jpg  \n",
            "  inflating: dataset/train_set/Cyclone/86.jpg  \n",
            "  inflating: dataset/train_set/Cyclone/87.jpg  \n",
            "  inflating: dataset/train_set/Cyclone/88.jpg  \n",
            "  inflating: dataset/train_set/Cyclone/89.jpg  \n",
            "  inflating: dataset/train_set/Cyclone/9.jpg  \n",
            "  inflating: dataset/train_set/Cyclone/90.jpg  \n",
            "  inflating: dataset/train_set/Cyclone/91.jpg  \n",
            "  inflating: dataset/train_set/Cyclone/92.jpg  \n",
            "  inflating: dataset/train_set/Cyclone/93.jpg  \n",
            "  inflating: dataset/train_set/Cyclone/94.jpg  \n",
            "  inflating: dataset/train_set/Cyclone/95.jpg  \n",
            "  inflating: dataset/train_set/Cyclone/96.jpg  \n",
            "  inflating: dataset/train_set/Cyclone/97.jpg  \n",
            "  inflating: dataset/train_set/Cyclone/98.jpg  \n",
            "  inflating: dataset/train_set/Cyclone/99.jpg  \n",
            "   creating: dataset/train_set/Earthquake/\n",
            "  inflating: dataset/train_set/Earthquake/0.jpg  \n",
            "  inflating: dataset/train_set/Earthquake/1.jpg  \n",
            "  inflating: dataset/train_set/Earthquake/10.jpg  \n",
            "  inflating: dataset/train_set/Earthquake/11.jpg  \n",
            "  inflating: dataset/train_set/Earthquake/12.jpg  \n",
            "  inflating: dataset/train_set/Earthquake/13.jpg  \n",
            "  inflating: dataset/train_set/Earthquake/14.jpg  \n",
            "  inflating: dataset/train_set/Earthquake/15.jpg  \n",
            "  inflating: dataset/train_set/Earthquake/16.jpg  \n",
            "  inflating: dataset/train_set/Earthquake/17.jpg  \n",
            "  inflating: dataset/train_set/Earthquake/18.jpg  \n",
            "  inflating: dataset/train_set/Earthquake/19.jpg  \n",
            "  inflating: dataset/train_set/Earthquake/2.jpg  \n",
            "  inflating: dataset/train_set/Earthquake/20.jpg  \n",
            "  inflating: dataset/train_set/Earthquake/21.jpg  \n",
            "  inflating: dataset/train_set/Earthquake/22.jpg  \n",
            "  inflating: dataset/train_set/Earthquake/23.jpg  \n",
            "  inflating: dataset/train_set/Earthquake/231.jpg  \n",
            "  inflating: dataset/train_set/Earthquake/232.jpg  \n",
            "  inflating: dataset/train_set/Earthquake/233.jpg  \n",
            "  inflating: dataset/train_set/Earthquake/234.jpg  \n",
            "  inflating: dataset/train_set/Earthquake/235.jpg  \n",
            "  inflating: dataset/train_set/Earthquake/236.jpg  \n",
            "  inflating: dataset/train_set/Earthquake/237.jpg  \n",
            "  inflating: dataset/train_set/Earthquake/238.jpg  \n",
            "  inflating: dataset/train_set/Earthquake/239.jpg  \n",
            "  inflating: dataset/train_set/Earthquake/24.jpg  \n",
            "  inflating: dataset/train_set/Earthquake/240.jpg  \n",
            "  inflating: dataset/train_set/Earthquake/241.jpg  \n",
            "  inflating: dataset/train_set/Earthquake/242.jpg  \n",
            "  inflating: dataset/train_set/Earthquake/243.jpg  \n",
            "  inflating: dataset/train_set/Earthquake/244.jpg  \n",
            "  inflating: dataset/train_set/Earthquake/245.jpg  \n",
            "  inflating: dataset/train_set/Earthquake/246.jpg  \n",
            "  inflating: dataset/train_set/Earthquake/247.jpg  \n",
            "  inflating: dataset/train_set/Earthquake/248.jpg  \n",
            "  inflating: dataset/train_set/Earthquake/249.jpg  \n",
            "  inflating: dataset/train_set/Earthquake/25.jpg  \n",
            "  inflating: dataset/train_set/Earthquake/250.jpg  \n",
            "  inflating: dataset/train_set/Earthquake/251.jpg  \n",
            "  inflating: dataset/train_set/Earthquake/252.jpg  \n",
            "  inflating: dataset/train_set/Earthquake/253.jpg  \n",
            "  inflating: dataset/train_set/Earthquake/254.jpg  \n",
            "  inflating: dataset/train_set/Earthquake/255.jpg  \n",
            "  inflating: dataset/train_set/Earthquake/256.jpg  \n",
            "  inflating: dataset/train_set/Earthquake/257.jpg  \n",
            "  inflating: dataset/train_set/Earthquake/258.jpg  \n",
            "  inflating: dataset/train_set/Earthquake/259.jpg  \n",
            "  inflating: dataset/train_set/Earthquake/26.jpg  \n",
            "  inflating: dataset/train_set/Earthquake/260.jpg  \n",
            "  inflating: dataset/train_set/Earthquake/261.jpg  \n",
            "  inflating: dataset/train_set/Earthquake/262.jpg  \n",
            "  inflating: dataset/train_set/Earthquake/263.jpg  \n",
            "  inflating: dataset/train_set/Earthquake/264.jpg  \n",
            "  inflating: dataset/train_set/Earthquake/265.jpg  \n",
            "  inflating: dataset/train_set/Earthquake/266.jpg  \n",
            "  inflating: dataset/train_set/Earthquake/267.jpg  \n",
            "  inflating: dataset/train_set/Earthquake/268.jpg  \n",
            "  inflating: dataset/train_set/Earthquake/269.jpg  \n",
            "  inflating: dataset/train_set/Earthquake/27.jpg  \n",
            "  inflating: dataset/train_set/Earthquake/270.jpg  \n",
            "  inflating: dataset/train_set/Earthquake/271.jpg  \n",
            "  inflating: dataset/train_set/Earthquake/272.jpg  \n",
            "  inflating: dataset/train_set/Earthquake/273.jpg  \n",
            "  inflating: dataset/train_set/Earthquake/274.jpg  \n",
            "  inflating: dataset/train_set/Earthquake/275.jpg  \n",
            "  inflating: dataset/train_set/Earthquake/276.jpg  \n",
            "  inflating: dataset/train_set/Earthquake/277.jpg  \n",
            "  inflating: dataset/train_set/Earthquake/278.jpg  \n",
            "  inflating: dataset/train_set/Earthquake/279.jpg  \n",
            "  inflating: dataset/train_set/Earthquake/28.jpg  \n",
            "  inflating: dataset/train_set/Earthquake/280.jpg  \n",
            "  inflating: dataset/train_set/Earthquake/281.jpg  \n",
            "  inflating: dataset/train_set/Earthquake/282.jpg  \n",
            "  inflating: dataset/train_set/Earthquake/283.jpg  \n",
            "  inflating: dataset/train_set/Earthquake/284.jpg  \n",
            "  inflating: dataset/train_set/Earthquake/285.jpg  \n",
            "  inflating: dataset/train_set/Earthquake/286.jpg  \n",
            "  inflating: dataset/train_set/Earthquake/287.jpg  \n",
            "  inflating: dataset/train_set/Earthquake/288.jpg  \n",
            "  inflating: dataset/train_set/Earthquake/289.jpg  \n",
            "  inflating: dataset/train_set/Earthquake/29.jpg  \n",
            "  inflating: dataset/train_set/Earthquake/290.jpg  \n",
            "  inflating: dataset/train_set/Earthquake/291.jpg  \n",
            "  inflating: dataset/train_set/Earthquake/292.jpg  \n",
            "  inflating: dataset/train_set/Earthquake/293.jpg  \n",
            "  inflating: dataset/train_set/Earthquake/294.jpg  \n",
            "  inflating: dataset/train_set/Earthquake/295.jpg  \n",
            "  inflating: dataset/train_set/Earthquake/296.jpg  \n",
            "  inflating: dataset/train_set/Earthquake/297.jpg  \n",
            "  inflating: dataset/train_set/Earthquake/298.jpg  \n",
            "  inflating: dataset/train_set/Earthquake/299.jpg  \n",
            "  inflating: dataset/train_set/Earthquake/3.jpg  \n",
            "  inflating: dataset/train_set/Earthquake/30.jpg  \n",
            "  inflating: dataset/train_set/Earthquake/300.jpg  \n",
            "  inflating: dataset/train_set/Earthquake/301.jpg  \n",
            "  inflating: dataset/train_set/Earthquake/302.jpg  \n",
            "  inflating: dataset/train_set/Earthquake/31.jpg  \n",
            "  inflating: dataset/train_set/Earthquake/32.jpg  \n",
            "  inflating: dataset/train_set/Earthquake/33.jpg  \n",
            "  inflating: dataset/train_set/Earthquake/34.jpg  \n",
            "  inflating: dataset/train_set/Earthquake/35.jpg  \n",
            "  inflating: dataset/train_set/Earthquake/36.jpg  \n",
            "  inflating: dataset/train_set/Earthquake/37.jpg  \n",
            "  inflating: dataset/train_set/Earthquake/38.jpg  \n",
            "  inflating: dataset/train_set/Earthquake/39.jpg  \n",
            "  inflating: dataset/train_set/Earthquake/4.jpg  \n",
            "  inflating: dataset/train_set/Earthquake/40.jpg  \n",
            "  inflating: dataset/train_set/Earthquake/41.jpg  \n",
            "  inflating: dataset/train_set/Earthquake/42.jpg  \n",
            "  inflating: dataset/train_set/Earthquake/43.jpg  \n",
            "  inflating: dataset/train_set/Earthquake/44.jpg  \n",
            "  inflating: dataset/train_set/Earthquake/45.jpg  \n",
            "  inflating: dataset/train_set/Earthquake/46.jpg  \n",
            "  inflating: dataset/train_set/Earthquake/47.jpg  \n",
            "  inflating: dataset/train_set/Earthquake/48.jpg  \n",
            "  inflating: dataset/train_set/Earthquake/49.jpg  \n",
            "  inflating: dataset/train_set/Earthquake/5.jpg  \n",
            "  inflating: dataset/train_set/Earthquake/50.jpg  \n",
            "  inflating: dataset/train_set/Earthquake/51.jpg  \n",
            "  inflating: dataset/train_set/Earthquake/52.jpg  \n",
            "  inflating: dataset/train_set/Earthquake/53.jpg  \n",
            "  inflating: dataset/train_set/Earthquake/54.jpg  \n",
            "  inflating: dataset/train_set/Earthquake/55.jpg  \n",
            "  inflating: dataset/train_set/Earthquake/56.jpg  \n",
            "  inflating: dataset/train_set/Earthquake/57.jpg  \n",
            "  inflating: dataset/train_set/Earthquake/58.jpg  \n",
            "  inflating: dataset/train_set/Earthquake/59.jpg  \n",
            "  inflating: dataset/train_set/Earthquake/6.jpg  \n",
            "  inflating: dataset/train_set/Earthquake/60.jpg  \n",
            "  inflating: dataset/train_set/Earthquake/61.jpg  \n",
            "  inflating: dataset/train_set/Earthquake/62.jpg  \n",
            "  inflating: dataset/train_set/Earthquake/63.jpg  \n",
            "  inflating: dataset/train_set/Earthquake/64.jpg  \n",
            "  inflating: dataset/train_set/Earthquake/65.jpg  \n",
            "  inflating: dataset/train_set/Earthquake/66.jpg  \n",
            "  inflating: dataset/train_set/Earthquake/67.jpg  \n",
            "  inflating: dataset/train_set/Earthquake/68.jpg  \n",
            "  inflating: dataset/train_set/Earthquake/69.jpg  \n",
            "  inflating: dataset/train_set/Earthquake/7.jpg  \n",
            "  inflating: dataset/train_set/Earthquake/70.jpg  \n",
            "  inflating: dataset/train_set/Earthquake/71.jpg  \n",
            "  inflating: dataset/train_set/Earthquake/72.jpg  \n",
            "  inflating: dataset/train_set/Earthquake/73.jpg  \n",
            "  inflating: dataset/train_set/Earthquake/74.jpg  \n",
            "  inflating: dataset/train_set/Earthquake/75.jpg  \n",
            "  inflating: dataset/train_set/Earthquake/76.jpg  \n",
            "  inflating: dataset/train_set/Earthquake/77.jpg  \n",
            "  inflating: dataset/train_set/Earthquake/78.jpg  \n",
            "  inflating: dataset/train_set/Earthquake/79.jpg  \n",
            "  inflating: dataset/train_set/Earthquake/8.jpg  \n",
            "  inflating: dataset/train_set/Earthquake/80.jpg  \n",
            "  inflating: dataset/train_set/Earthquake/81.jpg  \n",
            "  inflating: dataset/train_set/Earthquake/82.jpg  \n",
            "  inflating: dataset/train_set/Earthquake/83.jpg  \n",
            "  inflating: dataset/train_set/Earthquake/9.jpg  \n",
            "   creating: dataset/train_set/Flood/\n",
            "  inflating: dataset/train_set/Flood/0.jpg  \n",
            "  inflating: dataset/train_set/Flood/1.jpg  \n",
            "  inflating: dataset/train_set/Flood/10.jpg  \n",
            "  inflating: dataset/train_set/Flood/100.jpg  \n",
            "  inflating: dataset/train_set/Flood/101.jpg  \n",
            "  inflating: dataset/train_set/Flood/102.jpg  \n",
            "  inflating: dataset/train_set/Flood/103.jpg  \n",
            "  inflating: dataset/train_set/Flood/104.jpg  \n",
            "  inflating: dataset/train_set/Flood/105.jpg  \n",
            "  inflating: dataset/train_set/Flood/106.jpg  \n",
            "  inflating: dataset/train_set/Flood/107.jpg  \n",
            "  inflating: dataset/train_set/Flood/108.jpg  \n",
            "  inflating: dataset/train_set/Flood/109.jpg  \n",
            "  inflating: dataset/train_set/Flood/11.jpg  \n",
            "  inflating: dataset/train_set/Flood/110.jpg  \n",
            "  inflating: dataset/train_set/Flood/111.jpg  \n",
            "  inflating: dataset/train_set/Flood/112.jpg  \n",
            "  inflating: dataset/train_set/Flood/113.jpg  \n",
            "  inflating: dataset/train_set/Flood/114.jpg  \n",
            "  inflating: dataset/train_set/Flood/115.jpg  \n",
            "  inflating: dataset/train_set/Flood/116.jpg  \n",
            "  inflating: dataset/train_set/Flood/117.jpg  \n",
            "  inflating: dataset/train_set/Flood/118.jpg  \n",
            "  inflating: dataset/train_set/Flood/119.jpg  \n",
            "  inflating: dataset/train_set/Flood/12.jpg  \n",
            "  inflating: dataset/train_set/Flood/13.jpg  \n",
            "  inflating: dataset/train_set/Flood/14.jpg  \n",
            "  inflating: dataset/train_set/Flood/15.jpg  \n",
            "  inflating: dataset/train_set/Flood/16.jpg  \n",
            "  inflating: dataset/train_set/Flood/17.jpg  \n",
            "  inflating: dataset/train_set/Flood/18.jpg  \n",
            "  inflating: dataset/train_set/Flood/19.jpg  \n",
            "  inflating: dataset/train_set/Flood/2.jpg  \n",
            "  inflating: dataset/train_set/Flood/20.jpg  \n",
            "  inflating: dataset/train_set/Flood/21.jpg  \n",
            "  inflating: dataset/train_set/Flood/22.jpg  \n",
            "  inflating: dataset/train_set/Flood/222.jpg  \n",
            "  inflating: dataset/train_set/Flood/223.jpg  \n",
            "  inflating: dataset/train_set/Flood/224.jpg  \n",
            "  inflating: dataset/train_set/Flood/225.jpg  \n",
            "  inflating: dataset/train_set/Flood/226.jpg  \n",
            "  inflating: dataset/train_set/Flood/227.jpg  \n",
            "  inflating: dataset/train_set/Flood/228.jpg  \n",
            "  inflating: dataset/train_set/Flood/229.jpg  \n",
            "  inflating: dataset/train_set/Flood/23.jpg  \n",
            "  inflating: dataset/train_set/Flood/230.jpg  \n",
            "  inflating: dataset/train_set/Flood/231.jpg  \n",
            "  inflating: dataset/train_set/Flood/232.jpg  \n",
            "  inflating: dataset/train_set/Flood/233.jpg  \n",
            "  inflating: dataset/train_set/Flood/234.jpg  \n",
            "  inflating: dataset/train_set/Flood/235.jpg  \n",
            "  inflating: dataset/train_set/Flood/236.jpg  \n",
            "  inflating: dataset/train_set/Flood/237.jpg  \n",
            "  inflating: dataset/train_set/Flood/238.jpg  \n",
            "  inflating: dataset/train_set/Flood/239.jpg  \n",
            "  inflating: dataset/train_set/Flood/24.jpg  \n",
            "  inflating: dataset/train_set/Flood/240.jpg  \n",
            "  inflating: dataset/train_set/Flood/241.jpg  \n",
            "  inflating: dataset/train_set/Flood/242.jpg  \n",
            "  inflating: dataset/train_set/Flood/243.jpg  \n",
            "  inflating: dataset/train_set/Flood/244.jpg  \n",
            "  inflating: dataset/train_set/Flood/245.jpg  \n",
            "  inflating: dataset/train_set/Flood/246.jpg  \n",
            "  inflating: dataset/train_set/Flood/247.jpg  \n",
            "  inflating: dataset/train_set/Flood/248.jpg  \n",
            "  inflating: dataset/train_set/Flood/249.jpg  \n",
            "  inflating: dataset/train_set/Flood/25.jpg  \n",
            "  inflating: dataset/train_set/Flood/250.jpg  \n",
            "  inflating: dataset/train_set/Flood/251.jpg  \n",
            "  inflating: dataset/train_set/Flood/252.jpg  \n",
            "  inflating: dataset/train_set/Flood/253.jpg  \n",
            "  inflating: dataset/train_set/Flood/254.jpg  \n",
            "  inflating: dataset/train_set/Flood/255.jpg  \n",
            "  inflating: dataset/train_set/Flood/256.jpg  \n",
            "  inflating: dataset/train_set/Flood/257.jpg  \n",
            "  inflating: dataset/train_set/Flood/258.jpg  \n",
            "  inflating: dataset/train_set/Flood/259.jpg  \n",
            "  inflating: dataset/train_set/Flood/26.jpg  \n",
            "  inflating: dataset/train_set/Flood/260.jpg  \n",
            "  inflating: dataset/train_set/Flood/261.jpg  \n",
            "  inflating: dataset/train_set/Flood/262.jpg  \n",
            "  inflating: dataset/train_set/Flood/263.jpg  \n",
            "  inflating: dataset/train_set/Flood/264.jpg  \n",
            "  inflating: dataset/train_set/Flood/265.jpg  \n",
            "  inflating: dataset/train_set/Flood/266.jpg  \n",
            "  inflating: dataset/train_set/Flood/267.jpg  \n",
            "  inflating: dataset/train_set/Flood/268.jpg  \n",
            "  inflating: dataset/train_set/Flood/269.jpg  \n",
            "  inflating: dataset/train_set/Flood/27.jpg  \n",
            "  inflating: dataset/train_set/Flood/270.jpg  \n",
            "  inflating: dataset/train_set/Flood/271.jpg  \n",
            "  inflating: dataset/train_set/Flood/272.jpg  \n",
            "  inflating: dataset/train_set/Flood/273.jpg  \n",
            "  inflating: dataset/train_set/Flood/274.jpg  \n",
            "  inflating: dataset/train_set/Flood/275.jpg  \n",
            "  inflating: dataset/train_set/Flood/276.jpg  \n",
            "  inflating: dataset/train_set/Flood/277.jpg  \n",
            "  inflating: dataset/train_set/Flood/278.jpg  \n",
            "  inflating: dataset/train_set/Flood/279.jpg  \n",
            "  inflating: dataset/train_set/Flood/28.jpg  \n",
            "  inflating: dataset/train_set/Flood/280.jpg  \n",
            "  inflating: dataset/train_set/Flood/281.jpg  \n",
            "  inflating: dataset/train_set/Flood/282.jpg  \n",
            "  inflating: dataset/train_set/Flood/283.jpg  \n",
            "  inflating: dataset/train_set/Flood/284.jpg  \n",
            "  inflating: dataset/train_set/Flood/285.jpg  \n",
            "  inflating: dataset/train_set/Flood/286.jpg  \n",
            "  inflating: dataset/train_set/Flood/287.jpg  \n",
            "  inflating: dataset/train_set/Flood/288.jpg  \n",
            "  inflating: dataset/train_set/Flood/289.jpg  \n",
            "  inflating: dataset/train_set/Flood/29.jpg  \n",
            "  inflating: dataset/train_set/Flood/290.jpg  \n",
            "  inflating: dataset/train_set/Flood/291.jpg  \n",
            "  inflating: dataset/train_set/Flood/292.jpg  \n",
            "  inflating: dataset/train_set/Flood/293.jpg  \n",
            "  inflating: dataset/train_set/Flood/294.jpg  \n",
            "  inflating: dataset/train_set/Flood/295.jpg  \n",
            "  inflating: dataset/train_set/Flood/296.jpg  \n",
            "  inflating: dataset/train_set/Flood/297.jpg  \n",
            "  inflating: dataset/train_set/Flood/298.jpg  \n",
            "  inflating: dataset/train_set/Flood/299.jpg  \n",
            "  inflating: dataset/train_set/Flood/3.jpg  \n",
            "  inflating: dataset/train_set/Flood/30.jpg  \n",
            "  inflating: dataset/train_set/Flood/31.jpg  \n",
            "  inflating: dataset/train_set/Flood/32.jpg  \n",
            "  inflating: dataset/train_set/Flood/33.jpg  \n",
            "  inflating: dataset/train_set/Flood/34.jpg  \n",
            "  inflating: dataset/train_set/Flood/35.jpg  \n",
            "  inflating: dataset/train_set/Flood/36.jpg  \n",
            "  inflating: dataset/train_set/Flood/37.jpg  \n",
            "  inflating: dataset/train_set/Flood/38.jpg  \n",
            "  inflating: dataset/train_set/Flood/39.jpg  \n",
            "  inflating: dataset/train_set/Flood/4.jpg  \n",
            "  inflating: dataset/train_set/Flood/40.jpg  \n",
            "  inflating: dataset/train_set/Flood/41.jpg  \n",
            "  inflating: dataset/train_set/Flood/42.jpg  \n",
            "  inflating: dataset/train_set/Flood/43.jpg  \n",
            "  inflating: dataset/train_set/Flood/44.jpg  \n",
            "  inflating: dataset/train_set/Flood/45.jpg  \n",
            "  inflating: dataset/train_set/Flood/46.jpg  \n",
            "  inflating: dataset/train_set/Flood/47.jpg  \n",
            "  inflating: dataset/train_set/Flood/48.jpg  \n",
            "  inflating: dataset/train_set/Flood/49.jpg  \n",
            "  inflating: dataset/train_set/Flood/5.jpg  \n",
            "  inflating: dataset/train_set/Flood/50.jpg  \n",
            "  inflating: dataset/train_set/Flood/51.jpg  \n",
            "  inflating: dataset/train_set/Flood/52.jpg  \n",
            "  inflating: dataset/train_set/Flood/53.jpg  \n",
            "  inflating: dataset/train_set/Flood/54.jpg  \n",
            "  inflating: dataset/train_set/Flood/55.jpg  \n",
            "  inflating: dataset/train_set/Flood/56.jpg  \n",
            "  inflating: dataset/train_set/Flood/57.jpg  \n",
            "  inflating: dataset/train_set/Flood/58.jpg  \n",
            "  inflating: dataset/train_set/Flood/59.jpg  \n",
            "  inflating: dataset/train_set/Flood/6.jpg  \n",
            "  inflating: dataset/train_set/Flood/60.jpg  \n",
            "  inflating: dataset/train_set/Flood/61.jpg  \n",
            "  inflating: dataset/train_set/Flood/62.jpg  \n",
            "  inflating: dataset/train_set/Flood/63.jpg  \n",
            "  inflating: dataset/train_set/Flood/64.jpg  \n",
            "  inflating: dataset/train_set/Flood/65.jpg  \n",
            "  inflating: dataset/train_set/Flood/66.jpg  \n",
            "  inflating: dataset/train_set/Flood/67.jpg  \n",
            "  inflating: dataset/train_set/Flood/68.jpg  \n",
            "  inflating: dataset/train_set/Flood/69.jpg  \n",
            "  inflating: dataset/train_set/Flood/7.jpg  \n",
            "  inflating: dataset/train_set/Flood/70.jpg  \n",
            "  inflating: dataset/train_set/Flood/71.jpg  \n",
            "  inflating: dataset/train_set/Flood/72.jpg  \n",
            "  inflating: dataset/train_set/Flood/73.jpg  \n",
            "  inflating: dataset/train_set/Flood/74.jpg  \n",
            "  inflating: dataset/train_set/Flood/75.jpg  \n",
            "  inflating: dataset/train_set/Flood/76.jpg  \n",
            "  inflating: dataset/train_set/Flood/77.jpg  \n",
            "  inflating: dataset/train_set/Flood/78.jpg  \n",
            "  inflating: dataset/train_set/Flood/79.jpg  \n",
            "  inflating: dataset/train_set/Flood/8.jpg  \n",
            "  inflating: dataset/train_set/Flood/80.jpg  \n",
            "  inflating: dataset/train_set/Flood/81.jpg  \n",
            "  inflating: dataset/train_set/Flood/82.jpg  \n",
            "  inflating: dataset/train_set/Flood/83.jpg  \n",
            "  inflating: dataset/train_set/Flood/84.jpg  \n",
            "  inflating: dataset/train_set/Flood/85.jpg  \n",
            "  inflating: dataset/train_set/Flood/86.jpg  \n",
            "  inflating: dataset/train_set/Flood/87.jpg  \n",
            "  inflating: dataset/train_set/Flood/88.jpg  \n",
            "  inflating: dataset/train_set/Flood/89.jpg  \n",
            "  inflating: dataset/train_set/Flood/9.jpg  \n",
            "  inflating: dataset/train_set/Flood/90.jpg  \n",
            "  inflating: dataset/train_set/Flood/91.jpg  \n",
            "  inflating: dataset/train_set/Flood/92.jpg  \n",
            "  inflating: dataset/train_set/Flood/93.jpg  \n",
            "  inflating: dataset/train_set/Flood/94.jpg  \n",
            "  inflating: dataset/train_set/Flood/95.jpg  \n",
            "  inflating: dataset/train_set/Flood/96.jpg  \n",
            "  inflating: dataset/train_set/Flood/97.jpg  \n",
            "  inflating: dataset/train_set/Flood/98.jpg  \n",
            "  inflating: dataset/train_set/Flood/99.jpg  \n",
            "   creating: dataset/train_set/Wildfire/\n",
            "  inflating: dataset/train_set/Wildfire/0.jpg  \n",
            "  inflating: dataset/train_set/Wildfire/1.jpg  \n",
            "  inflating: dataset/train_set/Wildfire/10.jpg  \n",
            "  inflating: dataset/train_set/Wildfire/100.jpg  \n",
            "  inflating: dataset/train_set/Wildfire/101.jpg  \n",
            "  inflating: dataset/train_set/Wildfire/11.jpg  \n",
            "  inflating: dataset/train_set/Wildfire/12.jpg  \n",
            "  inflating: dataset/train_set/Wildfire/13.jpg  \n",
            "  inflating: dataset/train_set/Wildfire/14.jpg  \n",
            "  inflating: dataset/train_set/Wildfire/15.jpg  \n",
            "  inflating: dataset/train_set/Wildfire/16.jpg  \n",
            "  inflating: dataset/train_set/Wildfire/17.jpg  \n",
            "  inflating: dataset/train_set/Wildfire/18.jpg  \n",
            "  inflating: dataset/train_set/Wildfire/19.jpg  \n",
            "  inflating: dataset/train_set/Wildfire/2.jpg  \n",
            "  inflating: dataset/train_set/Wildfire/20.jpg  \n",
            "  inflating: dataset/train_set/Wildfire/21.jpg  \n",
            "  inflating: dataset/train_set/Wildfire/22.jpg  \n",
            "  inflating: dataset/train_set/Wildfire/23.jpg  \n",
            "  inflating: dataset/train_set/Wildfire/24.jpg  \n",
            "  inflating: dataset/train_set/Wildfire/25.jpg  \n",
            "  inflating: dataset/train_set/Wildfire/26.jpg  \n",
            "  inflating: dataset/train_set/Wildfire/27.jpg  \n",
            "  inflating: dataset/train_set/Wildfire/270.jpg  \n",
            "  inflating: dataset/train_set/Wildfire/271.jpg  \n",
            "  inflating: dataset/train_set/Wildfire/272.jpg  \n",
            "  inflating: dataset/train_set/Wildfire/273.jpg  \n",
            "  inflating: dataset/train_set/Wildfire/274.jpg  \n",
            "  inflating: dataset/train_set/Wildfire/275.jpg  \n",
            "  inflating: dataset/train_set/Wildfire/276.jpg  \n",
            "  inflating: dataset/train_set/Wildfire/277.jpg  \n",
            "  inflating: dataset/train_set/Wildfire/278.jpg  \n",
            "  inflating: dataset/train_set/Wildfire/279.jpg  \n",
            "  inflating: dataset/train_set/Wildfire/28.jpg  \n",
            "  inflating: dataset/train_set/Wildfire/280.jpg  \n",
            "  inflating: dataset/train_set/Wildfire/281.jpg  \n",
            "  inflating: dataset/train_set/Wildfire/282.jpg  \n",
            "  inflating: dataset/train_set/Wildfire/283.jpg  \n",
            "  inflating: dataset/train_set/Wildfire/284.jpg  \n",
            "  inflating: dataset/train_set/Wildfire/285.jpg  \n",
            "  inflating: dataset/train_set/Wildfire/286.jpg  \n",
            "  inflating: dataset/train_set/Wildfire/287.jpg  \n",
            "  inflating: dataset/train_set/Wildfire/288.jpg  \n",
            "  inflating: dataset/train_set/Wildfire/289.jpg  \n",
            "  inflating: dataset/train_set/Wildfire/29.jpg  \n",
            "  inflating: dataset/train_set/Wildfire/290.jpg  \n",
            "  inflating: dataset/train_set/Wildfire/291.jpg  \n",
            "  inflating: dataset/train_set/Wildfire/292.jpg  \n",
            "  inflating: dataset/train_set/Wildfire/293.jpg  \n",
            "  inflating: dataset/train_set/Wildfire/294.jpg  \n",
            "  inflating: dataset/train_set/Wildfire/295.jpg  \n",
            "  inflating: dataset/train_set/Wildfire/296.jpg  \n",
            "  inflating: dataset/train_set/Wildfire/297.jpg  \n",
            "  inflating: dataset/train_set/Wildfire/298.jpg  \n",
            "  inflating: dataset/train_set/Wildfire/299.jpg  \n",
            "  inflating: dataset/train_set/Wildfire/3.jpg  \n",
            "  inflating: dataset/train_set/Wildfire/30.jpg  \n",
            "  inflating: dataset/train_set/Wildfire/300.jpg  \n",
            "  inflating: dataset/train_set/Wildfire/301.jpg  \n",
            "  inflating: dataset/train_set/Wildfire/302.jpg  \n",
            "  inflating: dataset/train_set/Wildfire/303.jpg  \n",
            "  inflating: dataset/train_set/Wildfire/304.jpg  \n",
            "  inflating: dataset/train_set/Wildfire/305.jpg  \n",
            "  inflating: dataset/train_set/Wildfire/306.jpg  \n",
            "  inflating: dataset/train_set/Wildfire/307.jpg  \n",
            "  inflating: dataset/train_set/Wildfire/308.jpg  \n",
            "  inflating: dataset/train_set/Wildfire/309.jpg  \n",
            "  inflating: dataset/train_set/Wildfire/31.jpg  \n",
            "  inflating: dataset/train_set/Wildfire/310.jpg  \n",
            "  inflating: dataset/train_set/Wildfire/311.jpg  \n",
            "  inflating: dataset/train_set/Wildfire/312.jpg  \n",
            "  inflating: dataset/train_set/Wildfire/313.jpg  \n",
            "  inflating: dataset/train_set/Wildfire/314.jpg  \n",
            "  inflating: dataset/train_set/Wildfire/315.jpg  \n",
            "  inflating: dataset/train_set/Wildfire/316.jpg  \n",
            "  inflating: dataset/train_set/Wildfire/317.jpg  \n",
            "  inflating: dataset/train_set/Wildfire/318.jpg  \n",
            "  inflating: dataset/train_set/Wildfire/319.jpg  \n",
            "  inflating: dataset/train_set/Wildfire/32.jpg  \n",
            "  inflating: dataset/train_set/Wildfire/320.jpg  \n",
            "  inflating: dataset/train_set/Wildfire/321.jpg  \n",
            "  inflating: dataset/train_set/Wildfire/322.jpg  \n",
            "  inflating: dataset/train_set/Wildfire/323.jpg  \n",
            "  inflating: dataset/train_set/Wildfire/324.jpg  \n",
            "  inflating: dataset/train_set/Wildfire/325.jpg  \n",
            "  inflating: dataset/train_set/Wildfire/326.jpg  \n",
            "  inflating: dataset/train_set/Wildfire/327.jpg  \n",
            "  inflating: dataset/train_set/Wildfire/328.jpg  \n",
            "  inflating: dataset/train_set/Wildfire/329.jpg  \n",
            "  inflating: dataset/train_set/Wildfire/33.jpg  \n",
            "  inflating: dataset/train_set/Wildfire/330.jpg  \n",
            "  inflating: dataset/train_set/Wildfire/331.jpg  \n",
            "  inflating: dataset/train_set/Wildfire/332.jpg  \n",
            "  inflating: dataset/train_set/Wildfire/333.jpg  \n",
            "  inflating: dataset/train_set/Wildfire/334.jpg  \n",
            "  inflating: dataset/train_set/Wildfire/335.jpg  \n",
            "  inflating: dataset/train_set/Wildfire/34.jpg  \n",
            "  inflating: dataset/train_set/Wildfire/35.jpg  \n",
            "  inflating: dataset/train_set/Wildfire/36.jpg  \n",
            "  inflating: dataset/train_set/Wildfire/37.jpg  \n",
            "  inflating: dataset/train_set/Wildfire/38.jpg  \n",
            "  inflating: dataset/train_set/Wildfire/39.jpg  \n",
            "  inflating: dataset/train_set/Wildfire/4.jpg  \n",
            "  inflating: dataset/train_set/Wildfire/40.jpg  \n",
            "  inflating: dataset/train_set/Wildfire/41.jpg  \n",
            "  inflating: dataset/train_set/Wildfire/42.jpg  \n",
            "  inflating: dataset/train_set/Wildfire/43.jpg  \n",
            "  inflating: dataset/train_set/Wildfire/44.jpg  \n",
            "  inflating: dataset/train_set/Wildfire/45.jpg  \n",
            "  inflating: dataset/train_set/Wildfire/46.jpg  \n",
            "  inflating: dataset/train_set/Wildfire/47.jpg  \n",
            "  inflating: dataset/train_set/Wildfire/48.jpg  \n",
            "  inflating: dataset/train_set/Wildfire/49.jpg  \n",
            "  inflating: dataset/train_set/Wildfire/5.jpg  \n",
            "  inflating: dataset/train_set/Wildfire/50.jpg  \n",
            "  inflating: dataset/train_set/Wildfire/51.jpg  \n",
            "  inflating: dataset/train_set/Wildfire/52.jpg  \n",
            "  inflating: dataset/train_set/Wildfire/53.jpg  \n",
            "  inflating: dataset/train_set/Wildfire/54.jpg  \n",
            "  inflating: dataset/train_set/Wildfire/55.jpg  \n",
            "  inflating: dataset/train_set/Wildfire/56.jpg  \n",
            "  inflating: dataset/train_set/Wildfire/57.jpg  \n",
            "  inflating: dataset/train_set/Wildfire/58.jpg  \n",
            "  inflating: dataset/train_set/Wildfire/59.jpg  \n",
            "  inflating: dataset/train_set/Wildfire/6.jpg  \n",
            "  inflating: dataset/train_set/Wildfire/60.jpg  \n",
            "  inflating: dataset/train_set/Wildfire/61.jpg  \n",
            "  inflating: dataset/train_set/Wildfire/62.jpg  \n",
            "  inflating: dataset/train_set/Wildfire/63.jpg  \n",
            "  inflating: dataset/train_set/Wildfire/64.jpg  \n",
            "  inflating: dataset/train_set/Wildfire/65.jpg  \n",
            "  inflating: dataset/train_set/Wildfire/66.jpg  \n",
            "  inflating: dataset/train_set/Wildfire/67.jpg  \n",
            "  inflating: dataset/train_set/Wildfire/68.jpg  \n",
            "  inflating: dataset/train_set/Wildfire/69.jpg  \n",
            "  inflating: dataset/train_set/Wildfire/7.jpg  \n",
            "  inflating: dataset/train_set/Wildfire/70.jpg  \n",
            "  inflating: dataset/train_set/Wildfire/71.jpg  \n",
            "  inflating: dataset/train_set/Wildfire/72.jpg  \n",
            "  inflating: dataset/train_set/Wildfire/73.jpg  \n",
            "  inflating: dataset/train_set/Wildfire/74.jpg  \n",
            "  inflating: dataset/train_set/Wildfire/75.jpg  \n",
            "  inflating: dataset/train_set/Wildfire/76.jpg  \n",
            "  inflating: dataset/train_set/Wildfire/77.jpg  \n",
            "  inflating: dataset/train_set/Wildfire/78.jpg  \n",
            "  inflating: dataset/train_set/Wildfire/79.jpg  \n",
            "  inflating: dataset/train_set/Wildfire/8.jpg  \n",
            "  inflating: dataset/train_set/Wildfire/80.jpg  \n",
            "  inflating: dataset/train_set/Wildfire/81.jpg  \n",
            "  inflating: dataset/train_set/Wildfire/82.jpg  \n",
            "  inflating: dataset/train_set/Wildfire/83.jpg  \n",
            "  inflating: dataset/train_set/Wildfire/84.jpg  \n",
            "  inflating: dataset/train_set/Wildfire/85.jpg  \n",
            "  inflating: dataset/train_set/Wildfire/86.jpg  \n",
            "  inflating: dataset/train_set/Wildfire/87.jpg  \n",
            "  inflating: dataset/train_set/Wildfire/88.jpg  \n",
            "  inflating: dataset/train_set/Wildfire/89.jpg  \n",
            "  inflating: dataset/train_set/Wildfire/9.jpg  \n",
            "  inflating: dataset/train_set/Wildfire/90.jpg  \n",
            "  inflating: dataset/train_set/Wildfire/91.jpg  \n",
            "  inflating: dataset/train_set/Wildfire/92.jpg  \n",
            "  inflating: dataset/train_set/Wildfire/93.jpg  \n",
            "  inflating: dataset/train_set/Wildfire/94.jpg  \n",
            "  inflating: dataset/train_set/Wildfire/95.jpg  \n",
            "  inflating: dataset/train_set/Wildfire/96.jpg  \n",
            "  inflating: dataset/train_set/Wildfire/97.jpg  \n",
            "  inflating: dataset/train_set/Wildfire/98.jpg  \n",
            "  inflating: dataset/train_set/Wildfire/99.jpg  \n"
          ]
        }
      ],
      "source": [
        "# Extract data\n",
        "\n",
        "!unzip '/content/drive/MyDrive/IBM_Dataset/dataset.zip'"
      ]
    },
    {
      "cell_type": "markdown",
      "source": [
        "# Data Augmentation\n",
        "It is a technique used to increase the images with some modification on original image. By doing this we can overcome overfitting."
      ],
      "metadata": {
        "id": "Xafly5dsOxUN"
      }
    },
    {
      "cell_type": "code",
      "source": [
        "# Import necessary lib.\n",
        "\n",
        "from tensorflow.keras.preprocessing.image import ImageDataGenerator"
      ],
      "metadata": {
        "id": "gM3m6nYBNK8z"
      },
      "execution_count": 4,
      "outputs": []
    },
    {
      "cell_type": "code",
      "source": [
        "# Data augmentation on training variable\n",
        "\n",
        "train_datagen=ImageDataGenerator(rescale=1./255,zoom_range=0.2,horizontal_flip=True,shear_range=0.2)"
      ],
      "metadata": {
        "id": "fQ_emnyjOvAZ"
      },
      "execution_count": 5,
      "outputs": []
    },
    {
      "cell_type": "code",
      "source": [
        "# Data augmentation on testing variable\n",
        "\n",
        "test_datagen=ImageDataGenerator(rescale=1./255)"
      ],
      "metadata": {
        "id": "bYMTBZ5dSN7Y"
      },
      "execution_count": 6,
      "outputs": []
    },
    {
      "cell_type": "code",
      "source": [
        "# Data augmentation on training data\n",
        "x_train=train_datagen.flow_from_directory('/content/dataset/train_set',target_size=(64,64),\n",
        "                                                            batch_size=5,color_mode='rgb',class_mode='categorical')"
      ],
      "metadata": {
        "colab": {
          "base_uri": "https://localhost:8080/"
        },
        "id": "tl6d_hQyS3lG",
        "outputId": "49cedd25-36c9-4c68-ffb1-5c164b660ce3"
      },
      "execution_count": 7,
      "outputs": [
        {
          "output_type": "stream",
          "name": "stdout",
          "text": [
            "Found 742 images belonging to 4 classes.\n"
          ]
        }
      ]
    },
    {
      "cell_type": "code",
      "source": [
        "# Data augmentation on testing data\n",
        "x_test=test_datagen.flow_from_directory('/content/dataset/test_set',target_size=(64,64),\n",
        "                                                            batch_size=5,color_mode='rgb',class_mode=\"categorical\")"
      ],
      "metadata": {
        "colab": {
          "base_uri": "https://localhost:8080/"
        },
        "id": "2WZeAOreTm0A",
        "outputId": "649c25e6-5f26-4b74-b986-2789515f63d9"
      },
      "execution_count": 8,
      "outputs": [
        {
          "output_type": "stream",
          "name": "stdout",
          "text": [
            "Found 198 images belonging to 4 classes.\n"
          ]
        }
      ]
    },
    {
      "cell_type": "code",
      "source": [
        "from google.colab import drive\n",
        "drive.mount('/content/drive')"
      ],
      "metadata": {
        "colab": {
          "base_uri": "https://localhost:8080/"
        },
        "id": "dRVMfTERKEu-",
        "outputId": "cb335bb5-c14b-4ec9-c3bc-cc044b68140e"
      },
      "execution_count": 2,
      "outputs": [
        {
          "output_type": "stream",
          "name": "stdout",
          "text": [
            "Drive already mounted at /content/drive; to attempt to forcibly remount, call drive.mount(\"/content/drive\", force_remount=True).\n"
          ]
        }
      ]
    },
    {
      "cell_type": "markdown",
      "source": [
        "# CNN model training"
      ],
      "metadata": {
        "id": "Ikphc1pUWber"
      }
    },
    {
      "cell_type": "code",
      "source": [
        "# Importing req. lib.\n",
        "\n",
        "from tensorflow.keras.models import Sequential\n",
        "from tensorflow.keras.layers import Convolution2D, MaxPooling2D, Flatten, Dense"
      ],
      "metadata": {
        "id": "QLhArRPrWHIG"
      },
      "execution_count": 9,
      "outputs": []
    },
    {
      "cell_type": "code",
      "source": [
        "# initialising the model and adding CNN layers\n",
        "\n",
        "model=Sequential()\n",
        "\n",
        "# First convolution layer and pooling\n",
        "\n",
        "model.add(Convolution2D(32,(3,3),activation=\"relu\",input_shape=(64,64,3)))\n",
        "model.add(MaxPooling2D(pool_size=(2,2)))\n",
        "\n",
        "#Second convolution layer and pooling\n",
        "\n",
        "model.add(Convolution2D(32,(3,3),activation=\"relu\"))\n",
        "model.add(MaxPooling2D(pool_size=(2,2)))\n",
        "\n",
        "#Flattening the layers\n",
        "\n",
        "model.add(Flatten())\n",
        "\n",
        "#Adding Dense Layers\n",
        "model.add(Dense(units=128,activation='relu'))\n",
        "model.add(Dense(units=4,activation='softmax'))\n",
        "\n",
        "model.compile(loss=\"categorical_crossentropy\",metrics=[\"accuracy\"],optimizer='adam')"
      ],
      "metadata": {
        "id": "F0kjNRsfXUOk"
      },
      "execution_count": 10,
      "outputs": []
    },
    {
      "cell_type": "code",
      "source": [
        "# Summary of our model\n",
        "\n",
        "model.summary()"
      ],
      "metadata": {
        "colab": {
          "base_uri": "https://localhost:8080/"
        },
        "id": "YBVP5-gBOByB",
        "outputId": "9f03d557-0b00-4726-ce39-c32919227744"
      },
      "execution_count": 11,
      "outputs": [
        {
          "output_type": "stream",
          "name": "stdout",
          "text": [
            "Model: \"sequential\"\n",
            "_________________________________________________________________\n",
            " Layer (type)                Output Shape              Param #   \n",
            "=================================================================\n",
            " conv2d (Conv2D)             (None, 62, 62, 32)        896       \n",
            "                                                                 \n",
            " max_pooling2d (MaxPooling2D  (None, 31, 31, 32)       0         \n",
            " )                                                               \n",
            "                                                                 \n",
            " conv2d_1 (Conv2D)           (None, 29, 29, 32)        9248      \n",
            "                                                                 \n",
            " max_pooling2d_1 (MaxPooling  (None, 14, 14, 32)       0         \n",
            " 2D)                                                             \n",
            "                                                                 \n",
            " flatten (Flatten)           (None, 6272)              0         \n",
            "                                                                 \n",
            " dense (Dense)               (None, 128)               802944    \n",
            "                                                                 \n",
            " dense_1 (Dense)             (None, 4)                 516       \n",
            "                                                                 \n",
            "=================================================================\n",
            "Total params: 813,604\n",
            "Trainable params: 813,604\n",
            "Non-trainable params: 0\n",
            "_________________________________________________________________\n"
          ]
        }
      ]
    },
    {
      "cell_type": "code",
      "source": [
        "# Fitting the model\n",
        "\n",
        "model.fit_generator(generator=x_train,epochs=20,steps_per_epoch=len(x_train),validation_data=x_test,validation_steps=len(x_test))"
      ],
      "metadata": {
        "colab": {
          "base_uri": "https://localhost:8080/"
        },
        "id": "sAyavjMEOR01",
        "outputId": "02b21fe8-650d-47e9-aad3-bb7887daa826"
      },
      "execution_count": 12,
      "outputs": [
        {
          "output_type": "stream",
          "name": "stderr",
          "text": [
            "/usr/local/lib/python3.7/dist-packages/ipykernel_launcher.py:3: UserWarning: `Model.fit_generator` is deprecated and will be removed in a future version. Please use `Model.fit`, which supports generators.\n",
            "  This is separate from the ipykernel package so we can avoid doing imports until\n"
          ]
        },
        {
          "output_type": "stream",
          "name": "stdout",
          "text": [
            "Epoch 1/20\n",
            "149/149 [==============================] - 35s 184ms/step - loss: 1.2236 - accuracy: 0.4353 - val_loss: 1.3283 - val_accuracy: 0.3182\n",
            "Epoch 2/20\n",
            "149/149 [==============================] - 27s 183ms/step - loss: 0.8742 - accuracy: 0.6509 - val_loss: 0.6933 - val_accuracy: 0.7727\n",
            "Epoch 3/20\n",
            "149/149 [==============================] - 29s 194ms/step - loss: 0.7269 - accuracy: 0.7399 - val_loss: 0.6858 - val_accuracy: 0.7525\n",
            "Epoch 4/20\n",
            "149/149 [==============================] - 27s 184ms/step - loss: 0.7124 - accuracy: 0.7116 - val_loss: 0.6480 - val_accuracy: 0.7828\n",
            "Epoch 5/20\n",
            "149/149 [==============================] - 27s 180ms/step - loss: 0.5496 - accuracy: 0.7925 - val_loss: 0.9094 - val_accuracy: 0.6869\n",
            "Epoch 6/20\n",
            "149/149 [==============================] - 27s 182ms/step - loss: 0.4944 - accuracy: 0.8140 - val_loss: 0.5474 - val_accuracy: 0.8384\n",
            "Epoch 7/20\n",
            "149/149 [==============================] - 27s 184ms/step - loss: 0.4654 - accuracy: 0.8113 - val_loss: 0.6503 - val_accuracy: 0.8081\n",
            "Epoch 8/20\n",
            "149/149 [==============================] - 27s 181ms/step - loss: 0.4258 - accuracy: 0.8491 - val_loss: 0.8062 - val_accuracy: 0.7677\n",
            "Epoch 9/20\n",
            "149/149 [==============================] - 27s 183ms/step - loss: 0.3869 - accuracy: 0.8585 - val_loss: 1.0033 - val_accuracy: 0.7121\n",
            "Epoch 10/20\n",
            "149/149 [==============================] - 29s 195ms/step - loss: 0.3500 - accuracy: 0.8598 - val_loss: 0.8268 - val_accuracy: 0.8030\n",
            "Epoch 11/20\n",
            "149/149 [==============================] - 27s 185ms/step - loss: 0.3357 - accuracy: 0.8774 - val_loss: 0.6439 - val_accuracy: 0.8030\n",
            "Epoch 12/20\n",
            "149/149 [==============================] - 28s 185ms/step - loss: 0.2932 - accuracy: 0.8760 - val_loss: 0.6460 - val_accuracy: 0.7929\n",
            "Epoch 13/20\n",
            "149/149 [==============================] - 28s 185ms/step - loss: 0.2747 - accuracy: 0.8881 - val_loss: 0.6985 - val_accuracy: 0.8081\n",
            "Epoch 14/20\n",
            "149/149 [==============================] - 27s 185ms/step - loss: 0.2917 - accuracy: 0.9016 - val_loss: 0.7488 - val_accuracy: 0.7525\n",
            "Epoch 15/20\n",
            "149/149 [==============================] - 28s 185ms/step - loss: 0.2686 - accuracy: 0.9043 - val_loss: 0.8088 - val_accuracy: 0.7778\n",
            "Epoch 16/20\n",
            "149/149 [==============================] - 28s 186ms/step - loss: 0.2254 - accuracy: 0.9084 - val_loss: 1.0128 - val_accuracy: 0.7525\n",
            "Epoch 17/20\n",
            "149/149 [==============================] - 27s 185ms/step - loss: 0.2651 - accuracy: 0.9124 - val_loss: 0.8040 - val_accuracy: 0.7929\n",
            "Epoch 18/20\n",
            "149/149 [==============================] - 29s 193ms/step - loss: 0.2532 - accuracy: 0.9191 - val_loss: 0.8839 - val_accuracy: 0.7475\n",
            "Epoch 19/20\n",
            "149/149 [==============================] - 28s 187ms/step - loss: 0.1783 - accuracy: 0.9447 - val_loss: 0.8473 - val_accuracy: 0.8030\n",
            "Epoch 20/20\n",
            "149/149 [==============================] - 27s 185ms/step - loss: 0.2117 - accuracy: 0.9313 - val_loss: 1.0375 - val_accuracy: 0.7626\n"
          ]
        },
        {
          "output_type": "execute_result",
          "data": {
            "text/plain": [
              "<keras.callbacks.History at 0x7fe6912bf850>"
            ]
          },
          "metadata": {},
          "execution_count": 12
        }
      ]
    },
    {
      "cell_type": "code",
      "source": [
        "# Save the model\n",
        "\n",
        "model.save('disaster.h5')\n",
        "\n",
        "!tar -zcvf naturaldisaster-classification.tgz disaster.h5"
      ],
      "metadata": {
        "colab": {
          "base_uri": "https://localhost:8080/"
        },
        "id": "F1HPmbAcOX2y",
        "outputId": "c0ea517a-31b3-4ba3-f44b-47925ff242fa"
      },
      "execution_count": 13,
      "outputs": [
        {
          "output_type": "stream",
          "name": "stdout",
          "text": [
            "disaster.h5\n"
          ]
        }
      ]
    },
    {
      "cell_type": "code",
      "source": [],
      "metadata": {
        "id": "sUAt6Q1cOXoH"
      },
      "execution_count": null,
      "outputs": []
    },
    {
      "cell_type": "markdown",
      "source": [
        "# IBM Deployment"
      ],
      "metadata": {
        "id": "ci-FJ-MptZWU"
      }
    },
    {
      "cell_type": "code",
      "source": [
        "!pip install watson-machine-learning-client"
      ],
      "metadata": {
        "colab": {
          "base_uri": "https://localhost:8080/",
          "height": 1000
        },
        "id": "Tb88o6-ZtKrN",
        "outputId": "465997da-d116-4ed0-eafc-985987b0c087"
      },
      "execution_count": 14,
      "outputs": [
        {
          "output_type": "stream",
          "name": "stdout",
          "text": [
            "Looking in indexes: https://pypi.org/simple, https://us-python.pkg.dev/colab-wheels/public/simple/\n",
            "Collecting watson-machine-learning-client\n",
            "  Downloading watson_machine_learning_client-1.0.391-py3-none-any.whl (538 kB)\n",
            "\u001b[K     |████████████████████████████████| 538 kB 31.9 MB/s \n",
            "\u001b[?25hRequirement already satisfied: tabulate in /usr/local/lib/python3.7/dist-packages (from watson-machine-learning-client) (0.8.10)\n",
            "Requirement already satisfied: pandas in /usr/local/lib/python3.7/dist-packages (from watson-machine-learning-client) (1.3.5)\n",
            "Requirement already satisfied: requests in /usr/local/lib/python3.7/dist-packages (from watson-machine-learning-client) (2.23.0)\n",
            "Collecting lomond\n",
            "  Downloading lomond-0.3.3-py2.py3-none-any.whl (35 kB)\n",
            "Collecting boto3\n",
            "  Downloading boto3-1.26.16-py3-none-any.whl (132 kB)\n",
            "\u001b[K     |████████████████████████████████| 132 kB 70.1 MB/s \n",
            "\u001b[?25hRequirement already satisfied: tqdm in /usr/local/lib/python3.7/dist-packages (from watson-machine-learning-client) (4.64.1)\n",
            "Requirement already satisfied: certifi in /usr/local/lib/python3.7/dist-packages (from watson-machine-learning-client) (2022.9.24)\n",
            "Collecting ibm-cos-sdk\n",
            "  Downloading ibm-cos-sdk-2.12.0.tar.gz (55 kB)\n",
            "\u001b[K     |████████████████████████████████| 55 kB 4.7 MB/s \n",
            "\u001b[?25hRequirement already satisfied: urllib3 in /usr/local/lib/python3.7/dist-packages (from watson-machine-learning-client) (1.24.3)\n",
            "Collecting jmespath<2.0.0,>=0.7.1\n",
            "  Downloading jmespath-1.0.1-py3-none-any.whl (20 kB)\n",
            "Collecting botocore<1.30.0,>=1.29.16\n",
            "  Downloading botocore-1.29.16-py3-none-any.whl (9.9 MB)\n",
            "\u001b[K     |████████████████████████████████| 9.9 MB 58.7 MB/s \n",
            "\u001b[?25hCollecting s3transfer<0.7.0,>=0.6.0\n",
            "  Downloading s3transfer-0.6.0-py3-none-any.whl (79 kB)\n",
            "\u001b[K     |████████████████████████████████| 79 kB 10.1 MB/s \n",
            "\u001b[?25hCollecting urllib3\n",
            "  Downloading urllib3-1.26.13-py2.py3-none-any.whl (140 kB)\n",
            "\u001b[K     |████████████████████████████████| 140 kB 75.1 MB/s \n",
            "\u001b[?25hRequirement already satisfied: python-dateutil<3.0.0,>=2.1 in /usr/local/lib/python3.7/dist-packages (from botocore<1.30.0,>=1.29.16->boto3->watson-machine-learning-client) (2.8.2)\n",
            "Requirement already satisfied: six>=1.5 in /usr/local/lib/python3.7/dist-packages (from python-dateutil<3.0.0,>=2.1->botocore<1.30.0,>=1.29.16->boto3->watson-machine-learning-client) (1.15.0)\n",
            "Collecting ibm-cos-sdk-core==2.12.0\n",
            "  Downloading ibm-cos-sdk-core-2.12.0.tar.gz (956 kB)\n",
            "\u001b[K     |████████████████████████████████| 956 kB 75.3 MB/s \n",
            "\u001b[?25hCollecting ibm-cos-sdk-s3transfer==2.12.0\n",
            "  Downloading ibm-cos-sdk-s3transfer-2.12.0.tar.gz (135 kB)\n",
            "\u001b[K     |████████████████████████████████| 135 kB 58.6 MB/s \n",
            "\u001b[?25hCollecting jmespath<2.0.0,>=0.7.1\n",
            "  Downloading jmespath-0.10.0-py2.py3-none-any.whl (24 kB)\n",
            "Collecting requests\n",
            "  Downloading requests-2.28.1-py3-none-any.whl (62 kB)\n",
            "\u001b[K     |████████████████████████████████| 62 kB 1.9 MB/s \n",
            "\u001b[?25hRequirement already satisfied: idna<4,>=2.5 in /usr/local/lib/python3.7/dist-packages (from requests->watson-machine-learning-client) (2.10)\n",
            "Requirement already satisfied: charset-normalizer<3,>=2 in /usr/local/lib/python3.7/dist-packages (from requests->watson-machine-learning-client) (2.1.1)\n",
            "Requirement already satisfied: pytz>=2017.3 in /usr/local/lib/python3.7/dist-packages (from pandas->watson-machine-learning-client) (2022.6)\n",
            "Requirement already satisfied: numpy>=1.17.3 in /usr/local/lib/python3.7/dist-packages (from pandas->watson-machine-learning-client) (1.21.6)\n",
            "Building wheels for collected packages: ibm-cos-sdk, ibm-cos-sdk-core, ibm-cos-sdk-s3transfer\n",
            "  Building wheel for ibm-cos-sdk (setup.py) ... \u001b[?25l\u001b[?25hdone\n",
            "  Created wheel for ibm-cos-sdk: filename=ibm_cos_sdk-2.12.0-py3-none-any.whl size=73930 sha256=94237ae27fae5c1fe0e7ac91be8bd3553e00d854e24291e6d8413b67317d0917\n",
            "  Stored in directory: /root/.cache/pip/wheels/ec/94/29/2b57327cf00664b6614304f7958abd29d77ea0e5bbece2ea57\n",
            "  Building wheel for ibm-cos-sdk-core (setup.py) ... \u001b[?25l\u001b[?25hdone\n",
            "  Created wheel for ibm-cos-sdk-core: filename=ibm_cos_sdk_core-2.12.0-py3-none-any.whl size=562963 sha256=5b6a5ce6292b5d75c81c527770fb2f61e3fc8fd41f0687f3b3d94132d6135c7f\n",
            "  Stored in directory: /root/.cache/pip/wheels/64/56/fb/5cd6f4f40406c828a5289b95b2752a4d142a9afb359244ed8d\n",
            "  Building wheel for ibm-cos-sdk-s3transfer (setup.py) ... \u001b[?25l\u001b[?25hdone\n",
            "  Created wheel for ibm-cos-sdk-s3transfer: filename=ibm_cos_sdk_s3transfer-2.12.0-py3-none-any.whl size=89778 sha256=453b17067f92ac51d762c81fe6e52faee96fed1250bc945466fb5d5d94745c63\n",
            "  Stored in directory: /root/.cache/pip/wheels/57/79/6a/ffe3370ed7ebc00604f9f76766e1e0348dcdcad2b2e32df9e1\n",
            "Successfully built ibm-cos-sdk ibm-cos-sdk-core ibm-cos-sdk-s3transfer\n",
            "Installing collected packages: urllib3, requests, jmespath, ibm-cos-sdk-core, botocore, s3transfer, ibm-cos-sdk-s3transfer, lomond, ibm-cos-sdk, boto3, watson-machine-learning-client\n",
            "  Attempting uninstall: urllib3\n",
            "    Found existing installation: urllib3 1.24.3\n",
            "    Uninstalling urllib3-1.24.3:\n",
            "      Successfully uninstalled urllib3-1.24.3\n",
            "  Attempting uninstall: requests\n",
            "    Found existing installation: requests 2.23.0\n",
            "    Uninstalling requests-2.23.0:\n",
            "      Successfully uninstalled requests-2.23.0\n",
            "Successfully installed boto3-1.26.16 botocore-1.29.16 ibm-cos-sdk-2.12.0 ibm-cos-sdk-core-2.12.0 ibm-cos-sdk-s3transfer-2.12.0 jmespath-0.10.0 lomond-0.3.3 requests-2.28.1 s3transfer-0.6.0 urllib3-1.26.13 watson-machine-learning-client-1.0.391\n"
          ]
        },
        {
          "output_type": "display_data",
          "data": {
            "application/vnd.colab-display-data+json": {
              "pip_warning": {
                "packages": [
                  "requests",
                  "urllib3"
                ]
              }
            }
          },
          "metadata": {}
        }
      ]
    },
    {
      "cell_type": "code",
      "source": [
        "!pip install ibm_watson_machine_learning"
      ],
      "metadata": {
        "colab": {
          "base_uri": "https://localhost:8080/"
        },
        "id": "PN_fimOztnj9",
        "outputId": "68d90567-c459-43e5-a497-1e20feb20756"
      },
      "execution_count": 15,
      "outputs": [
        {
          "output_type": "stream",
          "name": "stdout",
          "text": [
            "Looking in indexes: https://pypi.org/simple, https://us-python.pkg.dev/colab-wheels/public/simple/\n",
            "Collecting ibm_watson_machine_learning\n",
            "  Downloading ibm_watson_machine_learning-1.0.257-py3-none-any.whl (1.8 MB)\n",
            "\u001b[K     |████████████████████████████████| 1.8 MB 27.8 MB/s \n",
            "\u001b[?25hRequirement already satisfied: pandas<1.5.0,>=0.24.2 in /usr/local/lib/python3.7/dist-packages (from ibm_watson_machine_learning) (1.3.5)\n",
            "Requirement already satisfied: requests in /usr/local/lib/python3.7/dist-packages (from ibm_watson_machine_learning) (2.28.1)\n",
            "Requirement already satisfied: urllib3 in /usr/local/lib/python3.7/dist-packages (from ibm_watson_machine_learning) (1.26.13)\n",
            "Requirement already satisfied: certifi in /usr/local/lib/python3.7/dist-packages (from ibm_watson_machine_learning) (2022.9.24)\n",
            "Requirement already satisfied: tabulate in /usr/local/lib/python3.7/dist-packages (from ibm_watson_machine_learning) (0.8.10)\n",
            "Collecting ibm-cos-sdk==2.7.*\n",
            "  Downloading ibm-cos-sdk-2.7.0.tar.gz (51 kB)\n",
            "\u001b[K     |████████████████████████████████| 51 kB 857 kB/s \n",
            "\u001b[?25hRequirement already satisfied: lomond in /usr/local/lib/python3.7/dist-packages (from ibm_watson_machine_learning) (0.3.3)\n",
            "Requirement already satisfied: packaging in /usr/local/lib/python3.7/dist-packages (from ibm_watson_machine_learning) (21.3)\n",
            "Requirement already satisfied: importlib-metadata in /usr/local/lib/python3.7/dist-packages (from ibm_watson_machine_learning) (4.13.0)\n",
            "Collecting ibm-cos-sdk-core==2.7.0\n",
            "  Downloading ibm-cos-sdk-core-2.7.0.tar.gz (824 kB)\n",
            "\u001b[K     |████████████████████████████████| 824 kB 63.2 MB/s \n",
            "\u001b[?25hCollecting ibm-cos-sdk-s3transfer==2.7.0\n",
            "  Downloading ibm-cos-sdk-s3transfer-2.7.0.tar.gz (133 kB)\n",
            "\u001b[K     |████████████████████████████████| 133 kB 70.2 MB/s \n",
            "\u001b[?25hRequirement already satisfied: jmespath<1.0.0,>=0.7.1 in /usr/local/lib/python3.7/dist-packages (from ibm-cos-sdk==2.7.*->ibm_watson_machine_learning) (0.10.0)\n",
            "Collecting docutils<0.16,>=0.10\n",
            "  Downloading docutils-0.15.2-py3-none-any.whl (547 kB)\n",
            "\u001b[K     |████████████████████████████████| 547 kB 63.0 MB/s \n",
            "\u001b[?25hRequirement already satisfied: python-dateutil<3.0.0,>=2.1 in /usr/local/lib/python3.7/dist-packages (from ibm-cos-sdk-core==2.7.0->ibm-cos-sdk==2.7.*->ibm_watson_machine_learning) (2.8.2)\n",
            "Requirement already satisfied: numpy>=1.17.3 in /usr/local/lib/python3.7/dist-packages (from pandas<1.5.0,>=0.24.2->ibm_watson_machine_learning) (1.21.6)\n",
            "Requirement already satisfied: pytz>=2017.3 in /usr/local/lib/python3.7/dist-packages (from pandas<1.5.0,>=0.24.2->ibm_watson_machine_learning) (2022.6)\n",
            "Requirement already satisfied: six>=1.5 in /usr/local/lib/python3.7/dist-packages (from python-dateutil<3.0.0,>=2.1->ibm-cos-sdk-core==2.7.0->ibm-cos-sdk==2.7.*->ibm_watson_machine_learning) (1.15.0)\n",
            "Requirement already satisfied: charset-normalizer<3,>=2 in /usr/local/lib/python3.7/dist-packages (from requests->ibm_watson_machine_learning) (2.1.1)\n",
            "Requirement already satisfied: idna<4,>=2.5 in /usr/local/lib/python3.7/dist-packages (from requests->ibm_watson_machine_learning) (2.10)\n",
            "Requirement already satisfied: zipp>=0.5 in /usr/local/lib/python3.7/dist-packages (from importlib-metadata->ibm_watson_machine_learning) (3.10.0)\n",
            "Requirement already satisfied: typing-extensions>=3.6.4 in /usr/local/lib/python3.7/dist-packages (from importlib-metadata->ibm_watson_machine_learning) (4.1.1)\n",
            "Requirement already satisfied: pyparsing!=3.0.5,>=2.0.2 in /usr/local/lib/python3.7/dist-packages (from packaging->ibm_watson_machine_learning) (3.0.9)\n",
            "Building wheels for collected packages: ibm-cos-sdk, ibm-cos-sdk-core, ibm-cos-sdk-s3transfer\n",
            "  Building wheel for ibm-cos-sdk (setup.py) ... \u001b[?25l\u001b[?25hdone\n",
            "  Created wheel for ibm-cos-sdk: filename=ibm_cos_sdk-2.7.0-py2.py3-none-any.whl size=72567 sha256=04381e6e0335503db342026718eee01f35e5191bdb2d6e7146d6dbfb12403874\n",
            "  Stored in directory: /root/.cache/pip/wheels/47/22/bf/e1154ff0f5de93cc477acd0ca69abfbb8b799c5b28a66b44c2\n",
            "  Building wheel for ibm-cos-sdk-core (setup.py) ... \u001b[?25l\u001b[?25hdone\n",
            "  Created wheel for ibm-cos-sdk-core: filename=ibm_cos_sdk_core-2.7.0-py2.py3-none-any.whl size=501011 sha256=fd1f99de7e49ec1a709fd886ea347406c4a4ad4bdac9a8b8e31b31526f2cad98\n",
            "  Stored in directory: /root/.cache/pip/wheels/6c/a2/e4/c16d02f809a3ea998e17cfd02c13369281f3d232aaf5902c19\n",
            "  Building wheel for ibm-cos-sdk-s3transfer (setup.py) ... \u001b[?25l\u001b[?25hdone\n",
            "  Created wheel for ibm-cos-sdk-s3transfer: filename=ibm_cos_sdk_s3transfer-2.7.0-py2.py3-none-any.whl size=88618 sha256=b9fd081a8ce3a26477d77572824f5ff55eb9dc498c86b547799cd2143a53e6c3\n",
            "  Stored in directory: /root/.cache/pip/wheels/5f/b7/14/fbe02bc1ef1af890650c7e51743d1c83890852e598d164b9da\n",
            "Successfully built ibm-cos-sdk ibm-cos-sdk-core ibm-cos-sdk-s3transfer\n",
            "Installing collected packages: docutils, ibm-cos-sdk-core, ibm-cos-sdk-s3transfer, ibm-cos-sdk, ibm-watson-machine-learning\n",
            "  Attempting uninstall: docutils\n",
            "    Found existing installation: docutils 0.17.1\n",
            "    Uninstalling docutils-0.17.1:\n",
            "      Successfully uninstalled docutils-0.17.1\n",
            "  Attempting uninstall: ibm-cos-sdk-core\n",
            "    Found existing installation: ibm-cos-sdk-core 2.12.0\n",
            "    Uninstalling ibm-cos-sdk-core-2.12.0:\n",
            "      Successfully uninstalled ibm-cos-sdk-core-2.12.0\n",
            "  Attempting uninstall: ibm-cos-sdk-s3transfer\n",
            "    Found existing installation: ibm-cos-sdk-s3transfer 2.12.0\n",
            "    Uninstalling ibm-cos-sdk-s3transfer-2.12.0:\n",
            "      Successfully uninstalled ibm-cos-sdk-s3transfer-2.12.0\n",
            "  Attempting uninstall: ibm-cos-sdk\n",
            "    Found existing installation: ibm-cos-sdk 2.12.0\n",
            "    Uninstalling ibm-cos-sdk-2.12.0:\n",
            "      Successfully uninstalled ibm-cos-sdk-2.12.0\n",
            "Successfully installed docutils-0.15.2 ibm-cos-sdk-2.7.0 ibm-cos-sdk-core-2.7.0 ibm-cos-sdk-s3transfer-2.7.0 ibm-watson-machine-learning-1.0.257\n"
          ]
        }
      ]
    },
    {
      "cell_type": "code",
      "source": [
        " from ibm_watson_machine_learning import APIClient\n",
        "\n",
        "wml_credentials = {\n",
        "    \"url\":\"https://us-south.ml.cloud.ibm.com\",\n",
        "    \"apikey\":\"YCR2eTkThhnYqwe0h7-2qL1Hm0oznW3mtWm4iJpGwgYt\"\n",
        "}\n",
        "\n",
        "client = APIClient(wml_credentials)"
      ],
      "metadata": {
        "colab": {
          "base_uri": "https://localhost:8080/"
        },
        "id": "gJyqRiZut4zQ",
        "outputId": "03a37d36-fb6b-4c04-f8f3-81f71040e5e8"
      },
      "execution_count": 16,
      "outputs": [
        {
          "output_type": "stream",
          "name": "stdout",
          "text": [
            "Python 3.7 and 3.8 frameworks are deprecated and will be removed in a future release. Use Python 3.9 framework instead.\n"
          ]
        }
      ]
    },
    {
      "cell_type": "code",
      "source": [
        "client"
      ],
      "metadata": {
        "colab": {
          "base_uri": "https://localhost:8080/"
        },
        "id": "Ncug7iOTvKJj",
        "outputId": "03b2d718-7520-4834-cef5-8b7707b99c65"
      },
      "execution_count": 17,
      "outputs": [
        {
          "output_type": "execute_result",
          "data": {
            "text/plain": [
              "<ibm_watson_machine_learning.client.APIClient at 0x7fe68024a410>"
            ]
          },
          "metadata": {},
          "execution_count": 17
        }
      ]
    },
    {
      "cell_type": "code",
      "source": [
        "client.spaces.get_details()"
      ],
      "metadata": {
        "colab": {
          "base_uri": "https://localhost:8080/"
        },
        "id": "_yW5Bu4hvMfT",
        "outputId": "bb3f9aa9-2a93-488f-eea5-9e804bbe5d30"
      },
      "execution_count": 18,
      "outputs": [
        {
          "output_type": "execute_result",
          "data": {
            "text/plain": [
              "{'resources': [{'entity': {'compute': [{'crn': 'crn:v1:bluemix:public:pm-20:us-south:a/240c299181784b558c76e358ca49699b:06491de1-ef64-4b99-baa5-053a40b8d365::',\n",
              "      'guid': '06491de1-ef64-4b99-baa5-053a40b8d365',\n",
              "      'name': 'Watson Machine Learning-of',\n",
              "      'type': 'machine_learning'}],\n",
              "    'description': '',\n",
              "    'name': 'NaturalDisaster',\n",
              "    'scope': {'bss_account_id': '240c299181784b558c76e358ca49699b'},\n",
              "    'stage': {'production': False},\n",
              "    'status': {'state': 'active'},\n",
              "    'storage': {'properties': {'bucket_name': '49681bb3-db82-40f3-9380-e21aec838176',\n",
              "      'bucket_region': 'us-south',\n",
              "      'credentials': {'admin': {'access_key_id': 'aa0be958c27840d7bacbfce9534f6431',\n",
              "        'api_key': '5nar7rbJT1QG6Z5v8-fBdqB2DXNd9uQrVIrFuUwxagMs',\n",
              "        'secret_access_key': '715b5db65dcd1009d19b6019a5efb84b2b9292088541edd4',\n",
              "        'service_id': 'ServiceId-f7c08433-7b8b-4fd0-8458-9eb11d0d6f42'},\n",
              "       'editor': {'access_key_id': '1e09decf08d649d89a180901cb43c47c',\n",
              "        'api_key': 'ESjOWj-v2OxKtE1_tGkmZ-RQBVdUOmRkFvR9QwY2EKR7',\n",
              "        'resource_key_crn': 'crn:v1:bluemix:public:cloud-object-storage:global:a/240c299181784b558c76e358ca49699b:8645adba-f661-4b50-92f5-a2fd30892881::',\n",
              "        'secret_access_key': 'e28f88d993338bb682c92ab601f23fe0aca0d9d581b6a866',\n",
              "        'service_id': 'ServiceId-a6025de4-4e8f-44cf-9f45-3adb0327e6a3'},\n",
              "       'viewer': {'access_key_id': 'd72f917e70264024856b8805dd162228',\n",
              "        'api_key': 'Pt53LQuyO2JXvXUvZomB4Q2xCpC-prfI67Z14QG5UDuE',\n",
              "        'resource_key_crn': 'crn:v1:bluemix:public:cloud-object-storage:global:a/240c299181784b558c76e358ca49699b:8645adba-f661-4b50-92f5-a2fd30892881::',\n",
              "        'secret_access_key': '6e5f53008c33fce240b02f7954127e74641efb0a7546fb9b',\n",
              "        'service_id': 'ServiceId-15973165-5708-4301-8f37-aee6ee3940eb'}},\n",
              "      'endpoint_url': 'https://s3.us-south.cloud-object-storage.appdomain.cloud',\n",
              "      'guid': '8645adba-f661-4b50-92f5-a2fd30892881',\n",
              "      'resource_crn': 'crn:v1:bluemix:public:cloud-object-storage:global:a/240c299181784b558c76e358ca49699b:8645adba-f661-4b50-92f5-a2fd30892881::'},\n",
              "     'type': 'bmcos_object_storage'}},\n",
              "   'metadata': {'created_at': '2022-11-25T14:24:42.060Z',\n",
              "    'creator_id': 'IBMid-66100478A5',\n",
              "    'id': '370a89c4-2064-4bdf-960b-f2770fd1b5cf',\n",
              "    'updated_at': '2022-11-25T14:25:02.788Z',\n",
              "    'url': '/v2/spaces/370a89c4-2064-4bdf-960b-f2770fd1b5cf'}},\n",
              "  {'entity': {'compute': [{'crn': 'crn:v1:bluemix:public:pm-20:us-south:a/240c299181784b558c76e358ca49699b:06491de1-ef64-4b99-baa5-053a40b8d365::',\n",
              "      'guid': '06491de1-ef64-4b99-baa5-053a40b8d365',\n",
              "      'name': 'Watson Machine Learning-of',\n",
              "      'type': 'machine_learning'}],\n",
              "    'description': '',\n",
              "    'name': 'ibm deployment',\n",
              "    'scope': {'bss_account_id': '240c299181784b558c76e358ca49699b'},\n",
              "    'stage': {'production': False},\n",
              "    'status': {'state': 'active'},\n",
              "    'storage': {'properties': {'bucket_name': '5b46e8db-e59b-401f-8164-1a19de163387',\n",
              "      'bucket_region': 'us-south',\n",
              "      'credentials': {'admin': {'access_key_id': '8cd0b8ef9c234bd8a19cb102e9a92899',\n",
              "        'api_key': 'yWbl-Zz_51RXvjhXeVOgUwmq6Ygzi5w-XMEikrPWeM4R',\n",
              "        'secret_access_key': '9f1244924046bfac976ae614961f584786e8b25787bba3af',\n",
              "        'service_id': 'ServiceId-d4a0c4b6-180b-49f6-9acb-1fcc76110d78'},\n",
              "       'editor': {'access_key_id': '35f46a6d9c244b14bbacc0af68874a09',\n",
              "        'api_key': 'sVNpVTQA7YqRq9fm2FeKx6HWY-bvRyCLZuJuaTs0H8Ht',\n",
              "        'resource_key_crn': 'crn:v1:bluemix:public:cloud-object-storage:global:a/240c299181784b558c76e358ca49699b:8645adba-f661-4b50-92f5-a2fd30892881::',\n",
              "        'secret_access_key': '25ca96f4982c2a6c2748230b76a29b4c76c16e6ee015c925',\n",
              "        'service_id': 'ServiceId-4fb9d141-6109-4d70-94e2-002edcf76b95'},\n",
              "       'viewer': {'access_key_id': 'de39a4a6fae84ae8b55465f7bb58f4e0',\n",
              "        'api_key': 'qBSCoYxpHTZjGuakGM3uwD8P5UpS5DnQOefbiBo3tIBg',\n",
              "        'resource_key_crn': 'crn:v1:bluemix:public:cloud-object-storage:global:a/240c299181784b558c76e358ca49699b:8645adba-f661-4b50-92f5-a2fd30892881::',\n",
              "        'secret_access_key': '9565a01a2b6e46cf1c05ae772028ed63d75ae0fbb88be8f3',\n",
              "        'service_id': 'ServiceId-2e0f3ba9-7b9f-400c-a4db-62e52e0ad01f'}},\n",
              "      'endpoint_url': 'https://s3.us-south.cloud-object-storage.appdomain.cloud',\n",
              "      'guid': '8645adba-f661-4b50-92f5-a2fd30892881',\n",
              "      'resource_crn': 'crn:v1:bluemix:public:cloud-object-storage:global:a/240c299181784b558c76e358ca49699b:8645adba-f661-4b50-92f5-a2fd30892881::'},\n",
              "     'type': 'bmcos_object_storage'}},\n",
              "   'metadata': {'created_at': '2022-11-25T18:46:39.523Z',\n",
              "    'creator_id': 'IBMid-66100478A5',\n",
              "    'id': 'e5bfddfa-3597-433a-9108-9d9b95271ed2',\n",
              "    'updated_at': '2022-11-25T18:46:59.679Z',\n",
              "    'url': '/v2/spaces/e5bfddfa-3597-433a-9108-9d9b95271ed2'}},\n",
              "  {'entity': {'compute': [{'crn': 'crn:v1:bluemix:public:pm-20:us-south:a/240c299181784b558c76e358ca49699b:06491de1-ef64-4b99-baa5-053a40b8d365::',\n",
              "      'guid': '06491de1-ef64-4b99-baa5-053a40b8d365',\n",
              "      'name': 'Watson Machine Learning-of',\n",
              "      'type': 'machine_learning'}],\n",
              "    'description': '',\n",
              "    'name': 'deployment',\n",
              "    'scope': {'bss_account_id': '240c299181784b558c76e358ca49699b'},\n",
              "    'stage': {'production': False},\n",
              "    'status': {'state': 'active'},\n",
              "    'storage': {'properties': {'bucket_name': 'cebcbc32-ee03-4d3e-9b9c-e4e49cf66fa2',\n",
              "      'bucket_region': 'us-south',\n",
              "      'credentials': {'admin': {'access_key_id': '401032c79e4c45d48f49f2a6426975df',\n",
              "        'api_key': '0LzZfP9-TGXFI8ubDZ6q8QinxXnVMZ2LxkNCmGToTGMk',\n",
              "        'secret_access_key': 'c6f3e9c16d0ab4bb08332b5b0cd7ca58b012cfa380f2153e',\n",
              "        'service_id': 'ServiceId-77d4986c-9d63-4875-bac1-20f2fb2a5734'},\n",
              "       'editor': {'access_key_id': 'edd2976756d148d48e4a3a33a5d96a08',\n",
              "        'api_key': 'aWewdYsvO0irzLHrST_8_VhUZMiYomTyUfsT6aQlg9FZ',\n",
              "        'resource_key_crn': 'crn:v1:bluemix:public:cloud-object-storage:global:a/240c299181784b558c76e358ca49699b:8645adba-f661-4b50-92f5-a2fd30892881::',\n",
              "        'secret_access_key': '03259a68648db3c4e162c52fe61b4597bf248ff9825d44de',\n",
              "        'service_id': 'ServiceId-6bd02b3d-92d0-49f4-a0c4-c474e39aeba3'},\n",
              "       'viewer': {'access_key_id': '8011ac47620349a593510c7344bee8ad',\n",
              "        'api_key': 'xPBd_ztfrx1z7bpdEZsqPEGqUdv7vLsDzbDuYE6sqKwp',\n",
              "        'resource_key_crn': 'crn:v1:bluemix:public:cloud-object-storage:global:a/240c299181784b558c76e358ca49699b:8645adba-f661-4b50-92f5-a2fd30892881::',\n",
              "        'secret_access_key': '74049b96be995befa24579e7606e4de35c8ebc3d3af056c2',\n",
              "        'service_id': 'ServiceId-50de31a1-d164-42bd-8bf6-da7f1ffddef4'}},\n",
              "      'endpoint_url': 'https://s3.us-south.cloud-object-storage.appdomain.cloud',\n",
              "      'guid': '8645adba-f661-4b50-92f5-a2fd30892881',\n",
              "      'resource_crn': 'crn:v1:bluemix:public:cloud-object-storage:global:a/240c299181784b558c76e358ca49699b:8645adba-f661-4b50-92f5-a2fd30892881::'},\n",
              "     'type': 'bmcos_object_storage'}},\n",
              "   'metadata': {'created_at': '2022-11-25T19:31:04.645Z',\n",
              "    'creator_id': 'IBMid-66100478A5',\n",
              "    'id': 'd4d788b2-5c7b-4003-a3be-0f6619a8b5a3',\n",
              "    'updated_at': '2022-11-25T19:31:22.525Z',\n",
              "    'url': '/v2/spaces/d4d788b2-5c7b-4003-a3be-0f6619a8b5a3'}}]}"
            ]
          },
          "metadata": {},
          "execution_count": 18
        }
      ]
    },
    {
      "cell_type": "code",
      "source": [
        "client.spaces.list()"
      ],
      "metadata": {
        "colab": {
          "base_uri": "https://localhost:8080/"
        },
        "id": "zSF90w7VvWrV",
        "outputId": "76889430-bb70-4662-8b21-62b35379456d"
      },
      "execution_count": 19,
      "outputs": [
        {
          "output_type": "stream",
          "name": "stdout",
          "text": [
            "Note: 'limit' is not provided. Only first 50 records will be displayed if the number of records exceed 50\n",
            "------------------------------------  ---------------  ------------------------\n",
            "ID                                    NAME             CREATED\n",
            "d4d788b2-5c7b-4003-a3be-0f6619a8b5a3  deployment       2022-11-25T19:31:04.645Z\n",
            "e5bfddfa-3597-433a-9108-9d9b95271ed2  ibm deployment   2022-11-25T18:46:39.523Z\n",
            "370a89c4-2064-4bdf-960b-f2770fd1b5cf  NaturalDisaster  2022-11-25T14:24:42.060Z\n",
            "------------------------------------  ---------------  ------------------------\n"
          ]
        }
      ]
    },
    {
      "cell_type": "code",
      "source": [
        "space_uid = \"d4d788b2-5c7b-4003-a3be-0f6619a8b5a3\"\n",
        "space_uid"
      ],
      "metadata": {
        "colab": {
          "base_uri": "https://localhost:8080/",
          "height": 36
        },
        "id": "gd0U0OCAyPnn",
        "outputId": "16c237ef-cd1d-4a40-eb4a-ffbaad411604"
      },
      "execution_count": 20,
      "outputs": [
        {
          "output_type": "execute_result",
          "data": {
            "text/plain": [
              "'d4d788b2-5c7b-4003-a3be-0f6619a8b5a3'"
            ],
            "application/vnd.google.colaboratory.intrinsic+json": {
              "type": "string"
            }
          },
          "metadata": {},
          "execution_count": 20
        }
      ]
    },
    {
      "cell_type": "code",
      "source": [
        "client.set.default_space(space_uid)"
      ],
      "metadata": {
        "colab": {
          "base_uri": "https://localhost:8080/",
          "height": 36
        },
        "id": "W3hT9Y6CyYnm",
        "outputId": "30501f50-b6a9-4314-967b-b1b743da7b09"
      },
      "execution_count": 21,
      "outputs": [
        {
          "output_type": "execute_result",
          "data": {
            "text/plain": [
              "'SUCCESS'"
            ],
            "application/vnd.google.colaboratory.intrinsic+json": {
              "type": "string"
            }
          },
          "metadata": {},
          "execution_count": 21
        }
      ]
    },
    {
      "cell_type": "code",
      "source": [
        "client.software_specifications.list()"
      ],
      "metadata": {
        "colab": {
          "base_uri": "https://localhost:8080/"
        },
        "id": "TCnFqa5gynP_",
        "outputId": "69445102-f3fe-44f7-fd90-730f0a31d677"
      },
      "execution_count": 22,
      "outputs": [
        {
          "output_type": "stream",
          "name": "stdout",
          "text": [
            "-----------------------------  ------------------------------------  ----\n",
            "NAME                           ASSET_ID                              TYPE\n",
            "default_py3.6                  0062b8c9-8b7d-44a0-a9b9-46c416adcbd9  base\n",
            "kernel-spark3.2-scala2.12      020d69ce-7ac1-5e68-ac1a-31189867356a  base\n",
            "pytorch-onnx_1.3-py3.7-edt     069ea134-3346-5748-b513-49120e15d288  base\n",
            "scikit-learn_0.20-py3.6        09c5a1d0-9c1e-4473-a344-eb7b665ff687  base\n",
            "spark-mllib_3.0-scala_2.12     09f4cff0-90a7-5899-b9ed-1ef348aebdee  base\n",
            "pytorch-onnx_rt22.1-py3.9      0b848dd4-e681-5599-be41-b5f6fccc6471  base\n",
            "ai-function_0.1-py3.6          0cdb0f1e-5376-4f4d-92dd-da3b69aa9bda  base\n",
            "shiny-r3.6                     0e6e79df-875e-4f24-8ae9-62dcc2148306  base\n",
            "tensorflow_2.4-py3.7-horovod   1092590a-307d-563d-9b62-4eb7d64b3f22  base\n",
            "pytorch_1.1-py3.6              10ac12d6-6b30-4ccd-8392-3e922c096a92  base\n",
            "tensorflow_1.15-py3.6-ddl      111e41b3-de2d-5422-a4d6-bf776828c4b7  base\n",
            "autoai-kb_rt22.2-py3.10        125b6d9a-5b1f-5e8d-972a-b251688ccf40  base\n",
            "runtime-22.1-py3.9             12b83a17-24d8-5082-900f-0ab31fbfd3cb  base\n",
            "scikit-learn_0.22-py3.6        154010fa-5b3b-4ac1-82af-4d5ee5abbc85  base\n",
            "default_r3.6                   1b70aec3-ab34-4b87-8aa0-a4a3c8296a36  base\n",
            "pytorch-onnx_1.3-py3.6         1bc6029a-cc97-56da-b8e0-39c3880dbbe7  base\n",
            "kernel-spark3.3-r3.6           1c9e5454-f216-59dd-a20e-474a5cdf5988  base\n",
            "pytorch-onnx_rt22.1-py3.9-edt  1d362186-7ad5-5b59-8b6c-9d0880bde37f  base\n",
            "tensorflow_2.1-py3.6           1eb25b84-d6ed-5dde-b6a5-3fbdf1665666  base\n",
            "spark-mllib_3.2                20047f72-0a98-58c7-9ff5-a77b012eb8f5  base\n",
            "tensorflow_2.4-py3.8-horovod   217c16f6-178f-56bf-824a-b19f20564c49  base\n",
            "runtime-22.1-py3.9-cuda        26215f05-08c3-5a41-a1b0-da66306ce658  base\n",
            "do_py3.8                       295addb5-9ef9-547e-9bf4-92ae3563e720  base\n",
            "autoai-ts_3.8-py3.8            2aa0c932-798f-5ae9-abd6-15e0c2402fb5  base\n",
            "tensorflow_1.15-py3.6          2b73a275-7cbf-420b-a912-eae7f436e0bc  base\n",
            "kernel-spark3.3-py3.9          2b7961e2-e3b1-5a8c-a491-482c8368839a  base\n",
            "pytorch_1.2-py3.6              2c8ef57d-2687-4b7d-acce-01f94976dac1  base\n",
            "spark-mllib_2.3                2e51f700-bca0-4b0d-88dc-5c6791338875  base\n",
            "pytorch-onnx_1.1-py3.6-edt     32983cea-3f32-4400-8965-dde874a8d67e  base\n",
            "spark-mllib_3.0-py37           36507ebe-8770-55ba-ab2a-eafe787600e9  base\n",
            "spark-mllib_2.4                390d21f8-e58b-4fac-9c55-d7ceda621326  base\n",
            "autoai-ts_rt22.2-py3.10        396b2e83-0953-5b86-9a55-7ce1628a406f  base\n",
            "xgboost_0.82-py3.6             39e31acd-5f30-41dc-ae44-60233c80306e  base\n",
            "pytorch-onnx_1.2-py3.6-edt     40589d0e-7019-4e28-8daa-fb03b6f4fe12  base\n",
            "pytorch-onnx_rt22.2-py3.10     40e73f55-783a-5535-b3fa-0c8b94291431  base\n",
            "default_r36py38                41c247d3-45f8-5a71-b065-8580229facf0  base\n",
            "autoai-ts_rt22.1-py3.9         4269d26e-07ba-5d40-8f66-2d495b0c71f7  base\n",
            "autoai-obm_3.0                 42b92e18-d9ab-567f-988a-4240ba1ed5f7  base\n",
            "pmml-3.0_4.3                   493bcb95-16f1-5bc5-bee8-81b8af80e9c7  base\n",
            "spark-mllib_2.4-r_3.6          49403dff-92e9-4c87-a3d7-a42d0021c095  base\n",
            "xgboost_0.90-py3.6             4ff8d6c2-1343-4c18-85e1-689c965304d3  base\n",
            "pytorch-onnx_1.1-py3.6         50f95b2a-bc16-43bb-bc94-b0bed208c60b  base\n",
            "autoai-ts_3.9-py3.8            52c57136-80fa-572e-8728-a5e7cbb42cde  base\n",
            "spark-mllib_2.4-scala_2.11     55a70f99-7320-4be5-9fb9-9edb5a443af5  base\n",
            "spark-mllib_3.0                5c1b0ca2-4977-5c2e-9439-ffd44ea8ffe9  base\n",
            "autoai-obm_2.0                 5c2e37fa-80b8-5e77-840f-d912469614ee  base\n",
            "spss-modeler_18.1              5c3cad7e-507f-4b2a-a9a3-ab53a21dee8b  base\n",
            "cuda-py3.8                     5d3232bf-c86b-5df4-a2cd-7bb870a1cd4e  base\n",
            "runtime-22.2-py3.10-xc         5e8cddff-db4a-5a6a-b8aa-2d4af9864dab  base\n",
            "autoai-kb_3.1-py3.7            632d4b22-10aa-5180-88f0-f52dfb6444d7  base\n",
            "-----------------------------  ------------------------------------  ----\n",
            "Note: Only first 50 records were displayed. To display more use 'limit' parameter.\n"
          ]
        }
      ]
    },
    {
      "cell_type": "code",
      "source": [
        "software_space_uid = client.software_specifications.get_uid_by_name(\"tensorflow_rt22.1-py3.9\")\n",
        "software_space_uid"
      ],
      "metadata": {
        "colab": {
          "base_uri": "https://localhost:8080/",
          "height": 36
        },
        "id": "NM7aunjMyxFo",
        "outputId": "48a891d4-761d-4ea4-af88-8c1ab58c2345"
      },
      "execution_count": 23,
      "outputs": [
        {
          "output_type": "execute_result",
          "data": {
            "text/plain": [
              "'acd9c798-6974-5d2f-a657-ce06e986df4d'"
            ],
            "application/vnd.google.colaboratory.intrinsic+json": {
              "type": "string"
            }
          },
          "metadata": {},
          "execution_count": 23
        }
      ]
    },
    {
      "cell_type": "code",
      "source": [
        "model_details = client.repository.store_model(model=\"naturaldisaster-classification.tgz\", meta_props={\n",
        "    client.repository.ModelMetaNames.NAME:\"Natural Diasater Model\",\n",
        "    client.repository.ModelMetaNames.TYPE:\"tensorflow_2.7\",\n",
        "    client.repository.ModelMetaNames.SOFTWARE_SPEC_UID:software_space_uid\n",
        "})"
      ],
      "metadata": {
        "id": "7Gn35XrtzjRd"
      },
      "execution_count": 24,
      "outputs": []
    },
    {
      "cell_type": "code",
      "source": [
        "model_details"
      ],
      "metadata": {
        "colab": {
          "base_uri": "https://localhost:8080/"
        },
        "id": "qmL9kF251G1i",
        "outputId": "2759322b-7feb-4815-99f0-4811b6f6ef1a"
      },
      "execution_count": 26,
      "outputs": [
        {
          "output_type": "execute_result",
          "data": {
            "text/plain": [
              "{'entity': {'hybrid_pipeline_software_specs': [],\n",
              "  'software_spec': {'id': 'acd9c798-6974-5d2f-a657-ce06e986df4d',\n",
              "   'name': 'tensorflow_rt22.1-py3.9'},\n",
              "  'type': 'tensorflow_2.7'},\n",
              " 'metadata': {'created_at': '2022-11-26T17:51:49.111Z',\n",
              "  'id': 'c0be57eb-1d99-4d23-a495-305f41502209',\n",
              "  'modified_at': '2022-11-26T17:51:53.524Z',\n",
              "  'name': 'Natural Diasater Model',\n",
              "  'owner': 'IBMid-66100478A5',\n",
              "  'resource_key': '92a3969d-80f3-435b-81a4-f61b61cd365f',\n",
              "  'space_id': 'd4d788b2-5c7b-4003-a3be-0f6619a8b5a3'},\n",
              " 'system': {'warnings': []}}"
            ]
          },
          "metadata": {},
          "execution_count": 26
        }
      ]
    },
    {
      "cell_type": "code",
      "source": [
        "model_id = client.repository.get_model_id(model_details)\n",
        "model_id"
      ],
      "metadata": {
        "colab": {
          "base_uri": "https://localhost:8080/",
          "height": 36
        },
        "id": "TOnyT7an1IAe",
        "outputId": "1fbadf38-b923-48c7-81cb-23a12e567a39"
      },
      "execution_count": 27,
      "outputs": [
        {
          "output_type": "execute_result",
          "data": {
            "text/plain": [
              "'c0be57eb-1d99-4d23-a495-305f41502209'"
            ],
            "application/vnd.google.colaboratory.intrinsic+json": {
              "type": "string"
            }
          },
          "metadata": {},
          "execution_count": 27
        }
      ]
    },
    {
      "cell_type": "code",
      "source": [
        "client.repository.download(model_id,'NaturalDiasater_Model.tgz')"
      ],
      "metadata": {
        "colab": {
          "base_uri": "https://localhost:8080/",
          "height": 54
        },
        "id": "4U2_9IWX1iJ4",
        "outputId": "6fdd4b3d-ab0d-473d-f91e-74e8948c9ada"
      },
      "execution_count": 28,
      "outputs": [
        {
          "output_type": "stream",
          "name": "stdout",
          "text": [
            "Successfully saved model content to file: 'NaturalDiasater_Model.tgz'\n"
          ]
        },
        {
          "output_type": "execute_result",
          "data": {
            "text/plain": [
              "'/content/NaturalDiasater_Model.tgz'"
            ],
            "application/vnd.google.colaboratory.intrinsic+json": {
              "type": "string"
            }
          },
          "metadata": {},
          "execution_count": 28
        }
      ]
    },
    {
      "cell_type": "code",
      "source": [],
      "metadata": {
        "id": "7UNNSOwN15BB"
      },
      "execution_count": null,
      "outputs": []
    }
  ]
}