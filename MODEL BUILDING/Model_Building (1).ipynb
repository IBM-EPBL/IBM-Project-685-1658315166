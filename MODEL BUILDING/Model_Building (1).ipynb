{
  "nbformat": 4,
  "nbformat_minor": 0,
  "metadata": {
    "colab": {
      "provenance": []
    },
    "kernelspec": {
      "name": "python3",
      "display_name": "Python 3"
    },
    "language_info": {
      "name": "python"
    }
  },
  "cells": [
    {
      "cell_type": "markdown",
      "source": [
        "**importing image data generator library**"
      ],
      "metadata": {
        "id": "8R6KfTrlg-JC"
      }
    },
    {
      "cell_type": "markdown",
      "source": [],
      "metadata": {
        "id": "VtY-Yj7z_C9z"
      }
    },
    {
      "cell_type": "code",
      "source": [
        "from tensorflow.keras.preprocessing.image import ImageDataGenerator"
      ],
      "metadata": {
        "id": "Hp8ddltJ_KEr"
      },
      "execution_count": null,
      "outputs": []
    },
    {
      "cell_type": "markdown",
      "source": [
        "**Image Data Augmentation**"
      ],
      "metadata": {
        "id": "S9G_RWB8hFTi"
      }
    },
    {
      "cell_type": "code",
      "source": [
        "#Configuring image Data Generator Class\n",
        "\n",
        "#Image Augmentation for training data\n",
        "\n",
        "train_datagen=ImageDataGenerator(rescale=1./255,zoom_range=0.2,horizontal_flip=True,shear_range=0.2)"
      ],
      "metadata": {
        "id": "Enlfi1hy-6YV"
      },
      "execution_count": null,
      "outputs": []
    },
    {
      "cell_type": "code",
      "source": [
        "#Image Data Augmentation for testing data\n",
        "\n",
        "test_datagen=ImageDataGenerator(rescale=1./255)"
      ],
      "metadata": {
        "id": "9Ln9T2Dy_MZM"
      },
      "execution_count": null,
      "outputs": []
    },
    {
      "cell_type": "code",
      "source": [
        "#Performing data augmentation to train data\n",
        "\n",
        "x_train=train_datagen.flow_from_directory(r\"/content/drive/MyDrive/Sprint2/dataset/train_set\",target_size=(64,64),\n",
        "                                                            batch_size=5,color_mode='rgb',class_mode='categorical')"
      ],
      "metadata": {
        "colab": {
          "base_uri": "https://localhost:8080/"
        },
        "id": "ENwAku94_RIB",
        "outputId": "cfac743d-45f8-4258-9bff-dc4e76994446"
      },
      "execution_count": null,
      "outputs": [
        {
          "output_type": "stream",
          "name": "stdout",
          "text": [
            "Found 742 images belonging to 4 classes.\n"
          ]
        }
      ]
    },
    {
      "cell_type": "code",
      "source": [
        "#performing data augmentation to test data\n",
        "\n",
        "x_test=test_datagen.flow_from_directory(r\"/content/drive/MyDrive/Sprint2/dataset/test_set\",target_size=(64,64),\n",
        "                                                            batch_size=5,color_mode='rgb',class_mode=\"categorical\")"
      ],
      "metadata": {
        "colab": {
          "base_uri": "https://localhost:8080/"
        },
        "id": "jvGaQr3QCNrs",
        "outputId": "e5f6bbf7-eba2-42ee-d2b3-5c2be076a1bb"
      },
      "execution_count": null,
      "outputs": [
        {
          "output_type": "stream",
          "name": "stdout",
          "text": [
            "Found 198 images belonging to 4 classes.\n"
          ]
        }
      ]
    },
    {
      "cell_type": "markdown",
      "source": [
        "**importing neccessary libraries**"
      ],
      "metadata": {
        "id": "eNavXxHyhbaq"
      }
    },
    {
      "cell_type": "code",
      "source": [
        "import numpy as np\n",
        "import tensorflow\n",
        "from tensorflow.keras.models import Sequential\n",
        "from tensorflow.keras.layers import Dense,Conv2D,MaxPooling2D,Flatten"
      ],
      "metadata": {
        "id": "xfrS0FmcCS3V"
      },
      "execution_count": null,
      "outputs": []
    },
    {
      "cell_type": "code",
      "source": [
        "# initialising the model and adding CNN layers\n",
        "\n",
        "model=Sequential()\n",
        "\n",
        "# First convolution layer and pooling\n",
        "\n",
        "model.add(Conv2D(32,(3,3),activation=\"relu\",input_shape=(64,64,3)))\n",
        "model.add(MaxPooling2D(pool_size=(2,2)))\n",
        "\n",
        "#Second convolution layer and pooling\n",
        "\n",
        "model.add(Conv2D(32,(3,3),activation=\"relu\"))\n",
        "model.add(MaxPooling2D(pool_size=(2,2)))\n",
        "\n",
        "#Flattening the layers\n",
        "\n",
        "model.add(Flatten())\n",
        "\n",
        "#Adding Dense Layers\n",
        "model.add(Dense(units=128,activation='relu'))\n",
        "model.add(Dense(units=4,activation='softmax'))\n",
        "\n",
        "model.compile(loss=\"categorical_crossentropy\",metrics=[\"accuracy\"],optimizer='adam')"
      ],
      "metadata": {
        "id": "0X5FZa9oCUTf"
      },
      "execution_count": null,
      "outputs": []
    },
    {
      "cell_type": "code",
      "source": [
        "# Summary of our model\n",
        "\n",
        "model.summary()"
      ],
      "metadata": {
        "colab": {
          "base_uri": "https://localhost:8080/"
        },
        "id": "fz4iI3NMCVnt",
        "outputId": "63677905-8899-48a2-fea1-368a2eb6a777"
      },
      "execution_count": null,
      "outputs": [
        {
          "output_type": "stream",
          "name": "stdout",
          "text": [
            "Model: \"sequential\"\n",
            "_________________________________________________________________\n",
            " Layer (type)                Output Shape              Param #   \n",
            "=================================================================\n",
            " conv2d (Conv2D)             (None, 62, 62, 32)        896       \n",
            "                                                                 \n",
            " max_pooling2d (MaxPooling2D  (None, 31, 31, 32)       0         \n",
            " )                                                               \n",
            "                                                                 \n",
            " conv2d_1 (Conv2D)           (None, 29, 29, 32)        9248      \n",
            "                                                                 \n",
            " max_pooling2d_1 (MaxPooling  (None, 14, 14, 32)       0         \n",
            " 2D)                                                             \n",
            "                                                                 \n",
            " flatten (Flatten)           (None, 6272)              0         \n",
            "                                                                 \n",
            " dense (Dense)               (None, 128)               802944    \n",
            "                                                                 \n",
            " dense_1 (Dense)             (None, 4)                 516       \n",
            "                                                                 \n",
            "=================================================================\n",
            "Total params: 813,604\n",
            "Trainable params: 813,604\n",
            "Non-trainable params: 0\n",
            "_________________________________________________________________\n"
          ]
        }
      ]
    },
    {
      "cell_type": "code",
      "source": [
        "# Fitting the model\n",
        "\n",
        "model.fit_generator(generator=x_train,epochs=20,steps_per_epoch=len(x_train),validation_data=x_test,validation_steps=len(x_test))"
      ],
      "metadata": {
        "colab": {
          "base_uri": "https://localhost:8080/"
        },
        "id": "rVl_fAgYCWsK",
        "outputId": "5e8fa08f-5d58-4b26-db2c-3434a40c557b"
      },
      "execution_count": null,
      "outputs": [
        {
          "output_type": "stream",
          "name": "stderr",
          "text": [
            "/usr/local/lib/python3.7/dist-packages/ipykernel_launcher.py:1: UserWarning: `Model.fit_generator` is deprecated and will be removed in a future version. Please use `Model.fit`, which supports generators.\n",
            "  \"\"\"Entry point for launching an IPython kernel.\n"
          ]
        },
        {
          "output_type": "stream",
          "name": "stdout",
          "text": [
            "Epoch 1/20\n",
            "149/149 [==============================] - 37s 244ms/step - loss: 1.1542 - accuracy: 0.5040 - val_loss: 0.9826 - val_accuracy: 0.5859\n",
            "Epoch 2/20\n",
            "149/149 [==============================] - 31s 208ms/step - loss: 0.8935 - accuracy: 0.6199 - val_loss: 0.9013 - val_accuracy: 0.6111\n",
            "Epoch 3/20\n",
            "149/149 [==============================] - 30s 204ms/step - loss: 0.7845 - accuracy: 0.6981 - val_loss: 0.7103 - val_accuracy: 0.6919\n",
            "Epoch 4/20\n",
            "149/149 [==============================] - 36s 240ms/step - loss: 0.6674 - accuracy: 0.7480 - val_loss: 0.7855 - val_accuracy: 0.7626\n",
            "Epoch 5/20\n",
            "149/149 [==============================] - 31s 211ms/step - loss: 0.5963 - accuracy: 0.7736 - val_loss: 0.8185 - val_accuracy: 0.6970\n",
            "Epoch 6/20\n",
            "149/149 [==============================] - 31s 210ms/step - loss: 0.5871 - accuracy: 0.7749 - val_loss: 0.7057 - val_accuracy: 0.7273\n",
            "Epoch 7/20\n",
            "149/149 [==============================] - 32s 215ms/step - loss: 0.4730 - accuracy: 0.8167 - val_loss: 0.5963 - val_accuracy: 0.7727\n",
            "Epoch 8/20\n",
            "149/149 [==============================] - 32s 213ms/step - loss: 0.4966 - accuracy: 0.8248 - val_loss: 0.9705 - val_accuracy: 0.6919\n",
            "Epoch 9/20\n",
            "149/149 [==============================] - 32s 218ms/step - loss: 0.4381 - accuracy: 0.8342 - val_loss: 0.9489 - val_accuracy: 0.7172\n",
            "Epoch 10/20\n",
            "149/149 [==============================] - 32s 213ms/step - loss: 0.3576 - accuracy: 0.8760 - val_loss: 0.7337 - val_accuracy: 0.7626\n",
            "Epoch 11/20\n",
            "149/149 [==============================] - 30s 206ms/step - loss: 0.3403 - accuracy: 0.8841 - val_loss: 0.9499 - val_accuracy: 0.7020\n",
            "Epoch 12/20\n",
            "149/149 [==============================] - 33s 225ms/step - loss: 0.3275 - accuracy: 0.8787 - val_loss: 0.7230 - val_accuracy: 0.7879\n",
            "Epoch 13/20\n",
            "149/149 [==============================] - 30s 204ms/step - loss: 0.2842 - accuracy: 0.9016 - val_loss: 1.0699 - val_accuracy: 0.6768\n",
            "Epoch 14/20\n",
            "149/149 [==============================] - 32s 215ms/step - loss: 0.3179 - accuracy: 0.8801 - val_loss: 0.7995 - val_accuracy: 0.7374\n",
            "Epoch 15/20\n",
            "149/149 [==============================] - 32s 217ms/step - loss: 0.3226 - accuracy: 0.8922 - val_loss: 0.8193 - val_accuracy: 0.7778\n",
            "Epoch 16/20\n",
            "149/149 [==============================] - 31s 209ms/step - loss: 0.2303 - accuracy: 0.9084 - val_loss: 1.0554 - val_accuracy: 0.7677\n",
            "Epoch 17/20\n",
            "149/149 [==============================] - 32s 212ms/step - loss: 0.2408 - accuracy: 0.9151 - val_loss: 0.9202 - val_accuracy: 0.7626\n",
            "Epoch 18/20\n",
            "149/149 [==============================] - 33s 221ms/step - loss: 0.2504 - accuracy: 0.9218 - val_loss: 0.9910 - val_accuracy: 0.7424\n",
            "Epoch 19/20\n",
            "149/149 [==============================] - 32s 216ms/step - loss: 0.1596 - accuracy: 0.9461 - val_loss: 1.1195 - val_accuracy: 0.7727\n",
            "Epoch 20/20\n",
            "149/149 [==============================] - 32s 212ms/step - loss: 0.1895 - accuracy: 0.9299 - val_loss: 0.9792 - val_accuracy: 0.7879\n"
          ]
        },
        {
          "output_type": "execute_result",
          "data": {
            "text/plain": [
              "<keras.callbacks.History at 0x7fded498cf10>"
            ]
          },
          "metadata": {},
          "execution_count": 36
        }
      ]
    },
    {
      "cell_type": "code",
      "source": [
        "# Save the model\n",
        "\n",
        "model.save('disaster.h5')\n",
        "model_json=model.to_json()\n",
        "with open(\"model-bw.json\",\"w\") as json_file:\n",
        "  json_file.write(model_json)"
      ],
      "metadata": {
        "id": "LrNAzkyfCZtv"
      },
      "execution_count": null,
      "outputs": []
    },
    {
      "cell_type": "code",
      "source": [
        "# Load the saved model\n",
        "\n",
        "from tensorflow.keras.models import load_model\n",
        "from tensorflow.keras.preprocessing import image\n",
        "model=load_model('disaster.h5')"
      ],
      "metadata": {
        "id": "KspEjUciCcWM"
      },
      "execution_count": null,
      "outputs": []
    },
    {
      "cell_type": "code",
      "source": [
        "x_train.class_indices"
      ],
      "metadata": {
        "colab": {
          "base_uri": "https://localhost:8080/"
        },
        "id": "uU3dQpGLCd2b",
        "outputId": "8d7e4bad-89dd-4713-8513-9eded23d7cbb"
      },
      "execution_count": null,
      "outputs": [
        {
          "output_type": "execute_result",
          "data": {
            "text/plain": [
              "{'Cyclone': 0, 'Earthquake': 1, 'Flood': 2, 'Wildfire': 3}"
            ]
          },
          "metadata": {},
          "execution_count": 39
        }
      ]
    },
    {
      "cell_type": "code",
      "source": [
        "# taking image as input\n",
        "\n",
        "img=image.load_img(r\"/content/drive/MyDrive/Sprint2/dataset/test_set/Earthquake/1329.jpg\",target_size=(64,64))\n",
        "x=image.img_to_array(img)\n",
        "x=np.expand_dims(x,axis=0)\n",
        "index=['Cyclone','Earthquake','Flood','Wildfire']\n",
        "y=np.argmax(model.predict(x),axis=1)\n",
        "print(index[int(y)])"
      ],
      "metadata": {
        "colab": {
          "base_uri": "https://localhost:8080/"
        },
        "id": "Gjs-XDAJCfFc",
        "outputId": "0ceb56a1-0771-4798-94f0-c9efd482da72"
      },
      "execution_count": null,
      "outputs": [
        {
          "output_type": "stream",
          "name": "stdout",
          "text": [
            "1/1 [==============================] - 0s 96ms/step\n",
            "Flood\n"
          ]
        }
      ]
    },
    {
      "cell_type": "code",
      "source": [
        "# taking image as input\n",
        "\n",
        "img=image.load_img(r\"/content/drive/MyDrive/Sprint2/dataset/test_set/Cyclone/900.jpg\",target_size=(64,64))\n",
        "x=image.img_to_array(img)\n",
        "x=np.expand_dims(x,axis=0)\n",
        "index=['Cyclone','Earthquake','Flood','Wildfire']\n",
        "y=np.argmax(model.predict(x),axis=1)\n",
        "print(index[int(y)])"
      ],
      "metadata": {
        "colab": {
          "base_uri": "https://localhost:8080/"
        },
        "id": "te_sHEFWChbC",
        "outputId": "19df6ade-2c8f-4132-f0bd-5ee7c2f83c06"
      },
      "execution_count": null,
      "outputs": [
        {
          "output_type": "stream",
          "name": "stdout",
          "text": [
            "1/1 [==============================] - 0s 21ms/step\n",
            "Cyclone\n"
          ]
        }
      ]
    },
    {
      "cell_type": "code",
      "source": [],
      "metadata": {
        "id": "XDAfNepcCkIg"
      },
      "execution_count": null,
      "outputs": []
    },
    {
      "cell_type": "code",
      "source": [],
      "metadata": {
        "id": "L0kg4ulS_GZj"
      },
      "execution_count": null,
      "outputs": []
    }
  ]
}