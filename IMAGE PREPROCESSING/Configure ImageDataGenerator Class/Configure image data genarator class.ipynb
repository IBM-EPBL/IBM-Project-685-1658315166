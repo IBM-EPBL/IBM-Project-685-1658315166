{
  "nbformat": 4,
  "nbformat_minor": 0,
  "metadata": {
    "colab": {
      "provenance": []
    },
    "kernelspec": {
      "name": "python3",
      "display_name": "Python 3"
    },
    "language_info": {
      "name": "python"
    }
  },
  "cells": [
    {
      "cell_type": "code",
      "execution_count": null,
      "metadata": {
        "id": "65SNETA4zE23"
      },
      "outputs": [],
      "source": [
        "#importing image data generator library"
      ]
    },
    {
      "cell_type": "code",
      "source": [
        "from keras.preprocessing.image import ImageDataGenerator"
      ],
      "metadata": {
        "id": "RXwAp7UQzJ20"
      },
      "execution_count": 1,
      "outputs": []
    },
    {
      "cell_type": "markdown",
      "source": [
        "Image Data Augmentation"
      ],
      "metadata": {
        "id": "KldNk6RLzUCP"
      }
    },
    {
      "cell_type": "code",
      "source": [
        "#Configuring image Data Generator Class\n",
        "\n",
        "#Setting Parameter for Image Augmentation for training data\n",
        "\n",
        "train_datagen = ImageDataGenerator(rescale = 1./255, shear_range = 0.2, zoom_range = 0.2, horizontal_flip = True)\n",
        "\n",
        "#Image Data Augmentation for testing data\n",
        "\n",
        "test_datagen = ImageDataGenerator(rescale = 1./255)"
      ],
      "metadata": {
        "id": "XK7gmRxfzQLl"
      },
      "execution_count": 2,
      "outputs": []
    }
  ]
}